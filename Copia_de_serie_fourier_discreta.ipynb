{
  "nbformat": 4,
  "nbformat_minor": 0,
  "metadata": {
    "kernelspec": {
      "display_name": "Python 3",
      "language": "python",
      "name": "python3"
    },
    "language_info": {
      "codemirror_mode": {
        "name": "ipython",
        "version": 3
      },
      "file_extension": ".py",
      "mimetype": "text/x-python",
      "name": "python",
      "nbconvert_exporter": "python",
      "pygments_lexer": "ipython3",
      "version": "3.6.8"
    },
    "varInspector": {
      "cols": {
        "lenName": 16,
        "lenType": 16,
        "lenVar": 40
      },
      "kernels_config": {
        "python": {
          "delete_cmd_postfix": "",
          "delete_cmd_prefix": "del ",
          "library": "var_list.py",
          "varRefreshCmd": "print(var_dic_list())"
        },
        "r": {
          "delete_cmd_postfix": ") ",
          "delete_cmd_prefix": "rm(",
          "library": "var_list.r",
          "varRefreshCmd": "cat(var_dic_list()) "
        }
      },
      "types_to_exclude": [
        "module",
        "function",
        "builtin_function_or_method",
        "instance",
        "_Feature"
      ],
      "window_display": false
    },
    "colab": {
      "name": "Copia de serie_fourier_discreta.ipynb",
      "provenance": [],
      "include_colab_link": true
    }
  },
  "cells": [
    {
      "cell_type": "markdown",
      "metadata": {
        "id": "view-in-github",
        "colab_type": "text"
      },
      "source": [
        "<a href=\"https://colab.research.google.com/github/mauguzar98/graficas-pyhton/blob/master/Copia_de_serie_fourier_discreta.ipynb\" target=\"_parent\"><img src=\"https://colab.research.google.com/assets/colab-badge.svg\" alt=\"Open In Colab\"/></a>"
      ]
    },
    {
      "cell_type": "code",
      "metadata": {
        "id": "I6MuwnkzHRHO",
        "colab_type": "code",
        "colab": {}
      },
      "source": [
        "import ipywidgets as widgets\n",
        "from ipywidgets import interact, interact_manual, interactive, fixed\n",
        "from IPython.display import display\n",
        "import numpy as np\n",
        "import matplotlib.pyplot as plt"
      ],
      "execution_count": 0,
      "outputs": []
    },
    {
      "cell_type": "markdown",
      "metadata": {
        "id": "bC5QxGvNHRHY",
        "colab_type": "text"
      },
      "source": [
        "# Estimación de Serie de Fourier Tiempo Discreto\n",
        "\n",
        "$$ X[k] = \\frac{1}{N} \\sum_{n=<N>} x[n] e^{-j k 2 \\pi n/N} $$\n",
        "\n",
        "sea la serie \n",
        "\n",
        "$$ x[n]= \\{0.2, 0.3, 0.4, -0.4, -0.3, -0.2\\} $$\n",
        "\n",
        "Con periodo N=6, "
      ]
    },
    {
      "cell_type": "code",
      "metadata": {
        "id": "1dM8PKKJHRHd",
        "colab_type": "code",
        "outputId": "20ebb05b-3513-45ff-ca29-60a047c583db",
        "colab": {
          "base_uri": "https://localhost:8080/",
          "height": 265
        }
      },
      "source": [
        "# la señal puede ser descrita por\n",
        "x=[0.2, 0.3, 0.4, -0.4, -0.3, -0.2]\n",
        "N=6\n",
        "n=np.arange(0,N)\n",
        "\n",
        "plt.stem(n,x, use_line_collection=True)\n",
        "plt.show()"
      ],
      "execution_count": 0,
      "outputs": [
        {
          "output_type": "display_data",
          "data": {
            "image/png": "[encoded data removed]",
            "text/plain": [
              "<Figure size 432x288 with 1 Axes>"
            ]
          },
          "metadata": {
            "tags": []
          }
        }
      ]
    },
    {
      "cell_type": "markdown",
      "metadata": {
        "id": "_ZaFZPJZHRHk",
        "colab_type": "text"
      },
      "source": [
        "Dada la defición de la estimación de los componentes de la serie de Fourier esta estimación puede verse como un producto punto entre el vector de señal y una matriz de exponenciales de la siguiente forma:\n",
        "\n",
        "\n",
        "$$ E=\\left[ \\begin{array}{ccccc} \n",
        "   1 & 1 & 1 &\\cdots & 1 \\\\\n",
        "   1 & e^{-j \\cdot  2 \\pi /N} & e^{-j \\cdot  2 \\pi \\cdot 2/N} & \\cdots & e^{-j \\cdot  2 \\pi \\cdot N-1/N} \\\\ \n",
        "   1 & e^{-j \\cdot  2 \\cdot 2 \\pi /N} & e^{-j \\cdot  2 \\cdot 2 \\pi \\cdot 2/N} & \\cdots & e^{-j \\cdot  2 \\cdot 2 \\pi \\cdot N-1/N} \\\\ \n",
        "   \\vdots & \\vdots & \\vdots & \\ddots & \\vdots \\\\\n",
        "   1 & e^{-j \\cdot  N-1 \\cdot 2 \\pi /N} & e^{-j \\cdot  N-1 \\cdot 2 \\pi \\cdot 2/N} & \\cdots & e^{-j \\cdot  N-1 \\cdot 2 \\pi \\cdot N-1/N}  \\end{array} \\right] $$\n",
        "   \n",
        "   \n",
        "Dicha matriz tiene dimensiones $\\left[N \\times N \\right]$ y la señal vista como vector renglón tiene dimensiones $\\left[1 \\times N\\right]$:\n",
        "\n",
        "$$ x = \\left[ x[0], x[1], x[2], \\cdots, x[N-1] \\right] $$\n",
        "\n",
        "Por lo que el producto:\n",
        "\n",
        "$$ Ak = \\frac{1}{N} \\cdot x \\cdot E $$\n",
        "\n",
        "Tiene dimensiones $\\left[1 \\times N \\right]$, y se puede comprobar que cada entrada es la evaluación de la primera ecuación mostrada en esta libreta para los valores de $ k = 0, 1, 2, \\cdots , N-1 $"
      ]
    },
    {
      "cell_type": "code",
      "metadata": {
        "id": "9bM40JFQHRHm",
        "colab_type": "code",
        "outputId": "903154ee-21fc-40c6-df69-008fcb91cff8",
        "colab": {
          "base_uri": "https://localhost:8080/",
          "height": 387
        }
      },
      "source": [
        "# Construyendo la matriz E\n",
        "k=np.arange(0,N)\n",
        "\n",
        "# Como k y n corren con los mismos valores se aprovecha esta simetria para solo usar esta variable al construir E\n",
        "E= np.exp(-1j*np.outer(k,k)*2*np.pi / N)\n",
        "Ak= np.dot(x,E) / N\n",
        "\n",
        "plt.figure(figsize=(10,5))\n",
        "plt.subplots_adjust(wspace=0.5)\n",
        "\n",
        "plt.subplot(1, 2, 1)\n",
        "plt.stem(k, np.real(Ak), use_line_collection=True)\n",
        "plt.xlabel('k')\n",
        "plt.ylabel('Real (Ak)')\n",
        "plt.title('Real')\n",
        "\n",
        "plt.subplot(1, 2, 2)\n",
        "plt.stem(k,np.imag(Ak), use_line_collection=True)\n",
        "plt.xlabel('k')\n",
        "plt.ylabel('imag (Ak)')\n",
        "plt.title('Imaginaria')\n",
        "\n",
        "plt.show()\n",
        "print(Ak)"
      ],
      "execution_count": 0,
      "outputs": [
        {
          "output_type": "display_data",
          "data": {
            "image/png": "[encoded data removed]",
            "text/plain": [
              "<Figure size 720x360 with 2 Axes>"
            ]
          },
          "metadata": {
            "tags": []
          }
        },
        {
          "output_type": "stream",
          "text": [
            "[ 0.  +0.00000000e+00j  0.1 -1.73205081e-01j -0.05+2.88675135e-02j\n",
            "  0.1 +8.98280646e-17j -0.05-2.88675135e-02j  0.1 +1.73205081e-01j]\n"
          ],
          "name": "stdout"
        }
      ]
    },
    {
      "cell_type": "markdown",
      "metadata": {
        "id": "lvijct3SHRHt",
        "colab_type": "text"
      },
      "source": [
        "Lo mismo pero ahora extendemos el calculo de k hasta 17 para observar que es lo que sucede"
      ]
    },
    {
      "cell_type": "code",
      "metadata": {
        "id": "krdiIYoNHRHv",
        "colab_type": "code",
        "outputId": "152f31b5-0441-4e7f-af36-aa697b3cf66e",
        "colab": {
          "base_uri": "https://localhost:8080/",
          "height": 350
        }
      },
      "source": [
        "k=np.arange(0,3*N)\n",
        "E= np.exp(-1j*np.outer(k,k)*2*np.pi / N)\n",
        "Ak= np.dot(np.concatenate((x,x,x)),E) / N\n",
        "\n",
        "plt.figure(figsize=(10,5))\n",
        "plt.subplots_adjust(wspace=0.5)\n",
        "\n",
        "plt.subplot(1, 2, 1)\n",
        "plt.stem(k,np.abs(Ak), use_line_collection=True)\n",
        "plt.xlabel('k')\n",
        "plt.ylabel('Amplitud (Ak)')\n",
        "plt.title('Amplitud')\n",
        "\n",
        "plt.subplot(1, 2, 2)\n",
        "plt.stem(k,np.angle(Ak)/np.pi, use_line_collection=True)\n",
        "plt.xlabel('k')\n",
        "plt.ylabel(r'Fase (x $\\pi$)')\n",
        "plt.title('fase (Ak)')\n",
        "\n",
        "plt.show()"
      ],
      "execution_count": 0,
      "outputs": [
        {
          "output_type": "display_data",
          "data": {
            "image/png": "[encoded data removed]",
            "text/plain": [
              "<Figure size 720x360 with 2 Axes>"
            ]
          },
          "metadata": {
            "tags": []
          }
        }
      ]
    },
    {
      "cell_type": "markdown",
      "metadata": {
        "id": "hm74tzeOHRH0",
        "colab_type": "text"
      },
      "source": [
        "Ahora mediante la ecuación de síntesis podemos reconstruir la señal en tiempo discreto.\n",
        "\n",
        "$$ x[n] = \\sum_{k=0}^{N-1} A_k e^{j k 2 \\pi n/N }$$\n",
        "\n",
        "note que el límite de la sumatoria está definido por $k$, de tal forma que los valores de $n$ pueden elegirse libremente. Al igual que para la ecuación de análisis la reconstrucción en tiempo puede verse también como un producto punto, pero con la versión conjugada de la matriz E. Tal y como se muestra en el código\n",
        "\n",
        "$$ x[n] = Ak \\cdot E $$"
      ]
    },
    {
      "cell_type": "code",
      "metadata": {
        "id": "NDMnSTwFHRH1",
        "colab_type": "code",
        "outputId": "6c414ecc-9f92-406f-9377-bd5aa63d0bdb",
        "colab": {
          "base_uri": "https://localhost:8080/",
          "height": 265
        }
      },
      "source": [
        "# seleccionamos valores de n cualesquiera\n",
        "n=np.arange(-8,8)\n",
        "\n",
        "# recuperamos los valores de Ak para sólo seis muestras\n",
        "k=np.arange(0,N)\n",
        "E= np.exp(-1j*np.outer(k,k)*2*np.pi / N)\n",
        "Ak= np.dot(x,E) / N\n",
        "\n",
        "# Ahora E es su versión conjugada, observe que el primer elemento de la multiplicación ahora es 1j\n",
        "E= np.exp(1j*np.outer(k,n)*2*np.pi / N)\n",
        "\n",
        "x_rec= np.real(np.dot(Ak,E))\n",
        "plt.stem(n,x_rec, use_line_collection=True)\n",
        "plt.show()"
      ],
      "execution_count": 0,
      "outputs": [
        {
          "output_type": "display_data",
          "data": {
            "image/png": "[encoded data removed]",
            "text/plain": [
              "<Figure size 432x288 with 1 Axes>"
            ]
          },
          "metadata": {
            "tags": []
          }
        }
      ]
    },
    {
      "cell_type": "markdown",
      "metadata": {
        "id": "JETpu6mZHRH6",
        "colab_type": "text"
      },
      "source": [
        "# ¿Qué pasa si extendemos el número de ceros?\n",
        "\n",
        "De acuerdo a la defición del vector señal este quedaría de la siguiente forma\n",
        "\n",
        "$$ x = \\left[ x[0], x[1], x[2], \\cdots, x[N-1] , 0 , 0, \\cdots \\right] $$\n",
        "\n",
        "En la ecuación anterior $x[N-1]$ indica el último valor conocido de la señal, y los ceros son agregados posteriormente. Esto produce que la señal incremente su número de muestras a $N= N + M$, o sea que el número de muestras ahora es el número de muestras que teníamos más el número de ceros que fueron concatenados. La matriz $E$ por su parte continua con su misma definición, ya que ahora $N$ es el número de muestras actualizado.\n",
        "\n",
        "$$ E=\\left[ \\begin{array}{ccccc} \n",
        "   1 & 1 & 1 &\\cdots & 1 \\\\\n",
        "   1 & e^{-j \\cdot  2 \\pi /N} & e^{-j \\cdot  2 \\pi \\cdot 2/N} & \\cdots & e^{-j \\cdot  2 \\pi \\cdot N-1/N} \\\\ \n",
        "   1 & e^{-j \\cdot  2 \\cdot 2 \\pi /N} & e^{-j \\cdot  2 \\cdot 2 \\pi \\cdot 2/N} & \\cdots & e^{-j \\cdot  2 \\cdot 2 \\pi \\cdot N-1/N} \\\\ \n",
        "   \\vdots & \\vdots & \\vdots & \\ddots & \\vdots \\\\\n",
        "   1 & e^{-j \\cdot  N-1 \\cdot 2 \\pi /N} & e^{-j \\cdot  N-1 \\cdot 2 \\pi \\cdot 2/N} & \\cdots & e^{-j \\cdot  N-1 \\cdot 2 \\pi \\cdot N-1/N}  \\end{array} \\right] $$\n"
      ]
    },
    {
      "cell_type": "code",
      "metadata": {
        "id": "GTmb0w5jHRH8",
        "colab_type": "code",
        "colab": {}
      },
      "source": [
        "# definimos ahora la función análisis como la ecuación de análisis de la serie de Fourier, el único argumento que recibe \n",
        "# esta fucnión es la señal a analizar ya que el resto de la función se construye dentro de la misma. Regresa los valores\n",
        "# de Ak y k necesarios para poder hacer la ecuación de síntesis\n",
        "\n",
        "def analisis(x=[1,2,3,4,0,0]):\n",
        "    \n",
        "    N=len(x)\n",
        "    # Construyendo la matriz E\n",
        "    k=np.arange(0,N)\n",
        "\n",
        "    # Como k y n corren con los mismos valores se aprovecha esta simetria para solo usar esta variable al construir E\n",
        "    E= np.exp(-1j*np.outer(k,k)*2*np.pi / N)\n",
        "    Ak= np.dot(x,E) / N\n",
        "        \n",
        "    return Ak"
      ],
      "execution_count": 0,
      "outputs": []
    },
    {
      "cell_type": "code",
      "metadata": {
        "id": "Hb3fwnUSHRIC",
        "colab_type": "code",
        "colab": {}
      },
      "source": [
        "# definimos la ecuación de síntesis como un producto punto entre los valores Ak y la matriz E que ya ha sido descrita.\n",
        "# Recibe como parámetros de entrada los valores Ak y los valores de n donde se evaluará la recosntrucción de la señal\n",
        "\n",
        "def sintesis(Ak=[1,0,1],n = [0, 1, 2]):\n",
        "\n",
        "    N=len(Ak)\n",
        "    k=np.arange(0,N)\n",
        "    E= np.exp(1j*np.outer(k,n)*2*np.pi / N)\n",
        "\n",
        "    x= np.dot(Ak,E)\n",
        "    return x"
      ],
      "execution_count": 0,
      "outputs": []
    },
    {
      "cell_type": "code",
      "metadata": {
        "id": "arwrkmoKHRIG",
        "colab_type": "code",
        "colab": {}
      },
      "source": [
        "def agrega_ceros(x,M=0):\n",
        "    N_ini=len(x)\n",
        "    \n",
        "    x_ini=x\n",
        "    x=np.concatenate((x,np.zeros(M,dtype=float)))\n",
        "    N=len(x)\n",
        "    n=np.arange(0,N)\n",
        "    plt.subplot(1,2,1)\n",
        "    plt.stem(n,x)\n",
        "        \n",
        "    k=np.arange(0,N)\n",
        "    w=np.linspace(0,2*np.pi,500)\n",
        "    \n",
        "    aux=np.exp(1j*w)\n",
        "    plt.subplot(1,2,2)\n",
        "    plt.plot(np.real(aux),np.imag(aux),linewidth=2)\n",
        "    wo_ini=np.arange(0,N_ini)* 2*np.pi/N_ini\n",
        "    wo = np.arange(0,N)* 2*np.pi/N    \n",
        "    \n",
        "    #pintamos los puntos en el círculo que corresponden a las exponenciales complejas de la matriz E\n",
        "    #\n",
        "    aux=np.exp(1j*wo)\n",
        "    plt.plot(np.real(aux),np.imag(aux),'ro',label='wo ceros',markersize=9)\n",
        "    aux=np.exp(1j*wo_ini)\n",
        "    plt.plot(np.real(aux),np.imag(aux),'bo',label='wo inicial')\n",
        "        \n",
        "    plt.axis('equal')\n",
        "    plt.legend()\n",
        "    plt.show()\n",
        "    \n",
        "    Ak_ini = analisis(x_ini)\n",
        "    Ak = analisis(x)\n",
        "    \n",
        "    plt.subplots_adjust(hspace=0.5)\n",
        "    plt.subplot(2,1,1)\n",
        "    plt.stem(wo,np.abs(Ak),'r', use_line_collection=True)\n",
        "    plt.stem(wo_ini,np.abs(Ak_ini),'b', use_line_collection=True)\n",
        "    plt.title('amplitud')\n",
        "    \n",
        "    plt.subplot(2,1,2)\n",
        "    plt.stem(wo,np.angle(Ak)/np.pi,'r', use_line_collection=True)\n",
        "    plt.stem(wo_ini,np.angle(Ak_ini)/np.pi,'b', use_line_collection=True)\n",
        "    plt.title('Fase')\n",
        "    \n",
        "    plt.show()\n",
        "    \n",
        "    \n",
        "    n=np.arange(-2*N,2*N)\n",
        "    x_rec=sintesis(Ak,n)\n",
        "    plt.stem(n,x_rec, use_line_collection=True)\n",
        "    plt.title('reconstruida')\n",
        "    plt.show()"
      ],
      "execution_count": 0,
      "outputs": []
    },
    {
      "cell_type": "code",
      "metadata": {
        "id": "j8ywHGaFHRIL",
        "colab_type": "code",
        "outputId": "4290361b-59fd-4cf8-f5d4-b2c178bffb91",
        "colab": {
          "base_uri": "https://localhost:8080/",
          "height": 886
        }
      },
      "source": [
        "agrega_ceros(x,15)"
      ],
      "execution_count": 0,
      "outputs": [
        {
          "output_type": "stream",
          "text": [
            "/usr/local/lib/python3.6/dist-packages/ipykernel_launcher.py:9: UserWarning: In Matplotlib 3.3 individual lines on a stem plot will be added as a LineCollection instead of individual lines. This significantly improves the performance of a stem plot. To remove this warning and switch to the new behaviour, set the \"use_line_collection\" keyword argument to True.\n",
            "  if __name__ == '__main__':\n"
          ],
          "name": "stderr"
        },
        {
          "output_type": "display_data",
          "data": {
            "image/png": "[encoded data removed]",
            "text/plain": [
              "<Figure size 432x288 with 2 Axes>"
            ]
          },
          "metadata": {
            "tags": []
          }
        },
        {
          "output_type": "display_data",
          "data": {
            "image/png": "[encoded data removed]",
            "text/plain": [
              "<Figure size 432x288 with 2 Axes>"
            ]
          },
          "metadata": {
            "tags": []
          }
        },
        {
          "output_type": "stream",
          "text": [
            "/usr/local/lib/python3.6/dist-packages/numpy/core/_asarray.py:85: ComplexWarning: Casting complex values to real discards the imaginary part\n",
            "  return array(a, dtype, copy=False, order=order)\n"
          ],
          "name": "stderr"
        },
        {
          "output_type": "display_data",
          "data": {
            "image/png": "[encoded data removed]",
            "text/plain": [
              "<Figure size 432x288 with 1 Axes>"
            ]
          },
          "metadata": {
            "tags": []
          }
        }
      ]
    },
    {
      "cell_type": "code",
      "metadata": {
        "id": "XxeXBqfoHRIR",
        "colab_type": "code",
        "colab": {}
      },
      "source": [
        ""
      ],
      "execution_count": 0,
      "outputs": []
    }
  ]
}