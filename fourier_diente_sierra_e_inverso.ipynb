{
  "nbformat": 4,
  "nbformat_minor": 0,
  "metadata": {
    "colab": {
      "name": "fourier_diente_sierra_e_inverso.ipynb",
      "provenance": [],
      "authorship_tag": "ABX9TyNA/Nav4rkw67kHKWOJnMmm",
      "include_colab_link": true
    },
    "kernelspec": {
      "name": "python3",
      "display_name": "Python 3"
    },
    "widgets": {
      "application/vnd.jupyter.widget-state+json": {
        "b7462a133c35481abbec3112d00170b1": {
          "model_module": "@jupyter-widgets/controls",
          "model_name": "VBoxModel",
          "state": {
            "_view_name": "VBoxView",
            "_dom_classes": [
              "widget-interact"
            ],
            "_model_name": "VBoxModel",
            "_view_module": "@jupyter-widgets/controls",
            "_model_module_version": "1.5.0",
            "_view_count": null,
            "_view_module_version": "1.5.0",
            "box_style": "",
            "layout": "IPY_MODEL_2f80f66f256f4d9681d5d7f995615465",
            "_model_module": "@jupyter-widgets/controls",
            "children": [
              "IPY_MODEL_30d3bb7d4d6d42cd8f5507a6d4ca1027",
              "IPY_MODEL_097ffdb65f4a4481a3ec96a46fe1bafd",
              "IPY_MODEL_ed5d391b9bfe47939ac171d048c4ecf3",
              "IPY_MODEL_600500ffacfd4b9db02d812e06b42049",
              "IPY_MODEL_710ef95162824c93bd9575c91ed62896"
            ]
          }
        },
        "2f80f66f256f4d9681d5d7f995615465": {
          "model_module": "@jupyter-widgets/base",
          "model_name": "LayoutModel",
          "state": {
            "_view_name": "LayoutView",
            "grid_template_rows": null,
            "right": null,
            "justify_content": null,
            "_view_module": "@jupyter-widgets/base",
            "overflow": null,
            "_model_module_version": "1.2.0",
            "_view_count": null,
            "flex_flow": null,
            "width": null,
            "min_width": null,
            "border": null,
            "align_items": null,
            "bottom": null,
            "_model_module": "@jupyter-widgets/base",
            "top": null,
            "grid_column": null,
            "overflow_y": null,
            "overflow_x": null,
            "grid_auto_flow": null,
            "grid_area": null,
            "grid_template_columns": null,
            "flex": null,
            "_model_name": "LayoutModel",
            "justify_items": null,
            "grid_row": null,
            "max_height": null,
            "align_content": null,
            "visibility": null,
            "align_self": null,
            "height": null,
            "min_height": null,
            "padding": null,
            "grid_auto_rows": null,
            "grid_gap": null,
            "max_width": null,
            "order": null,
            "_view_module_version": "1.2.0",
            "grid_template_areas": null,
            "object_position": null,
            "object_fit": null,
            "grid_auto_columns": null,
            "margin": null,
            "display": null,
            "left": null
          }
        },
        "30d3bb7d4d6d42cd8f5507a6d4ca1027": {
          "model_module": "@jupyter-widgets/controls",
          "model_name": "FloatSliderModel",
          "state": {
            "_view_name": "FloatSliderView",
            "style": "IPY_MODEL_c7429e6d731c4ad28d35bdb13b304469",
            "_dom_classes": [],
            "description": "T",
            "step": 0.5,
            "_model_name": "FloatSliderModel",
            "orientation": "horizontal",
            "max": 5,
            "_view_module": "@jupyter-widgets/controls",
            "_model_module_version": "1.5.0",
            "value": 2,
            "_view_count": null,
            "disabled": false,
            "_view_module_version": "1.5.0",
            "min": 0,
            "continuous_update": true,
            "readout_format": ".2f",
            "description_tooltip": null,
            "readout": true,
            "_model_module": "@jupyter-widgets/controls",
            "layout": "IPY_MODEL_16f426af2f3e4b86aa16f2741ac9a8e3"
          }
        },
        "097ffdb65f4a4481a3ec96a46fe1bafd": {
          "model_module": "@jupyter-widgets/controls",
          "model_name": "IntSliderModel",
          "state": {
            "_view_name": "IntSliderView",
            "style": "IPY_MODEL_5436c8619b5846df90912175d86778ea",
            "_dom_classes": [],
            "description": "k",
            "step": 2,
            "_model_name": "IntSliderModel",
            "orientation": "horizontal",
            "max": 100,
            "_view_module": "@jupyter-widgets/controls",
            "_model_module_version": "1.5.0",
            "value": 23,
            "_view_count": null,
            "disabled": false,
            "_view_module_version": "1.5.0",
            "min": 1,
            "continuous_update": true,
            "readout_format": "d",
            "description_tooltip": null,
            "readout": true,
            "_model_module": "@jupyter-widgets/controls",
            "layout": "IPY_MODEL_ff4a54c5068d489ea520a12224c9a84d"
          }
        },
        "ed5d391b9bfe47939ac171d048c4ecf3": {
          "model_module": "@jupyter-widgets/controls",
          "model_name": "FloatSliderModel",
          "state": {
            "_view_name": "FloatSliderView",
            "style": "IPY_MODEL_945516fb17b14ad490c11a17045047bd",
            "_dom_classes": [],
            "description": "duty",
            "step": 0.02,
            "_model_name": "FloatSliderModel",
            "orientation": "horizontal",
            "max": 0.97,
            "_view_module": "@jupyter-widgets/controls",
            "_model_module_version": "1.5.0",
            "value": 0.5,
            "_view_count": null,
            "disabled": false,
            "_view_module_version": "1.5.0",
            "min": 0.0001,
            "continuous_update": true,
            "readout_format": ".2f",
            "description_tooltip": null,
            "readout": true,
            "_model_module": "@jupyter-widgets/controls",
            "layout": "IPY_MODEL_a7eeed3e78be408c8cb4916f1c0155e4"
          }
        },
        "600500ffacfd4b9db02d812e06b42049": {
          "model_module": "@jupyter-widgets/controls",
          "model_name": "FloatSliderModel",
          "state": {
            "_view_name": "FloatSliderView",
            "style": "IPY_MODEL_e13449a477c940ce8488d27ea232f28b",
            "_dom_classes": [],
            "description": "amplitude",
            "step": 0.1,
            "_model_name": "FloatSliderModel",
            "orientation": "horizontal",
            "max": 10,
            "_view_module": "@jupyter-widgets/controls",
            "_model_module_version": "1.5.0",
            "value": 1,
            "_view_count": null,
            "disabled": false,
            "_view_module_version": "1.5.0",
            "min": 0.1,
            "continuous_update": true,
            "readout_format": ".2f",
            "description_tooltip": null,
            "readout": true,
            "_model_module": "@jupyter-widgets/controls",
            "layout": "IPY_MODEL_89c377f228a9441995e80322c797573f"
          }
        },
        "710ef95162824c93bd9575c91ed62896": {
          "model_module": "@jupyter-widgets/output",
          "model_name": "OutputModel",
          "state": {
            "_view_name": "OutputView",
            "msg_id": "",
            "_dom_classes": [],
            "_model_name": "OutputModel",
            "outputs": [
              {
                "output_type": "display_data",
                "metadata": {
                  "tags": []
                },
                "image/png": "iVBORw0KGgoAAAANSUhEUgAAAXwAAAD4CAYAAADvsV2wAAAABHNCSVQICAgIfAhkiAAAAAlwSFlz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\n",
                "text/plain": "<Figure size 432x288 with 1 Axes>"
              },
              {
                "output_type": "stream",
                "metadata": {
                  "tags": []
                },
                "text": "/usr/local/lib/python3.6/dist-packages/numpy/core/_asarray.py:85: ComplexWarning: Casting complex values to real discards the imaginary part\n  return array(a, dtype, copy=False, order=order)\n",
                "stream": "stderr"
              },
              {
                "output_type": "display_data",
                "metadata": {
                  "tags": []
                },
                "image/png": "iVBORw0KGgoAAAANSUhEUgAAAXwAAAD4CAYAAADvsV2wAAAABHNCSVQICAgIfAhkiAAAAAlwSFlz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\n",
                "text/plain": "<Figure size 432x288 with 1 Axes>"
              },
              {
                "output_type": "display_data",
                "metadata": {
                  "tags": []
                },
                "text/plain": "(array([-0.24079531-2.42861287e-17j, -0.24073558-1.21430643e-17j,\n        -0.24054302-3.46944695e-18j, ..., -0.24059746-5.20417043e-18j,\n        -0.24074239+8.67361738e-18j, -0.24079531-6.93889390e-18j]),\n array([-4.        , -3.99839968, -3.99679936, ...,  3.99679936,\n         3.99839968,  4.        ]))"
              }
            ],
            "_view_module": "@jupyter-widgets/output",
            "_model_module_version": "1.0.0",
            "_view_count": null,
            "_view_module_version": "1.0.0",
            "layout": "IPY_MODEL_6e7e626b75ca4ca595744e95ccadf366",
            "_model_module": "@jupyter-widgets/output"
          }
        },
        "c7429e6d731c4ad28d35bdb13b304469": {
          "model_module": "@jupyter-widgets/controls",
          "model_name": "SliderStyleModel",
          "state": {
            "_view_name": "StyleView",
            "handle_color": null,
            "_model_name": "SliderStyleModel",
            "description_width": "",
            "_view_module": "@jupyter-widgets/base",
            "_model_module_version": "1.5.0",
            "_view_count": null,
            "_view_module_version": "1.2.0",
            "_model_module": "@jupyter-widgets/controls"
          }
        },
        "16f426af2f3e4b86aa16f2741ac9a8e3": {
          "model_module": "@jupyter-widgets/base",
          "model_name": "LayoutModel",
          "state": {
            "_view_name": "LayoutView",
            "grid_template_rows": null,
            "right": null,
            "justify_content": null,
            "_view_module": "@jupyter-widgets/base",
            "overflow": null,
            "_model_module_version": "1.2.0",
            "_view_count": null,
            "flex_flow": null,
            "width": null,
            "min_width": null,
            "border": null,
            "align_items": null,
            "bottom": null,
            "_model_module": "@jupyter-widgets/base",
            "top": null,
            "grid_column": null,
            "overflow_y": null,
            "overflow_x": null,
            "grid_auto_flow": null,
            "grid_area": null,
            "grid_template_columns": null,
            "flex": null,
            "_model_name": "LayoutModel",
            "justify_items": null,
            "grid_row": null,
            "max_height": null,
            "align_content": null,
            "visibility": null,
            "align_self": null,
            "height": null,
            "min_height": null,
            "padding": null,
            "grid_auto_rows": null,
            "grid_gap": null,
            "max_width": null,
            "order": null,
            "_view_module_version": "1.2.0",
            "grid_template_areas": null,
            "object_position": null,
            "object_fit": null,
            "grid_auto_columns": null,
            "margin": null,
            "display": null,
            "left": null
          }
        },
        "5436c8619b5846df90912175d86778ea": {
          "model_module": "@jupyter-widgets/controls",
          "model_name": "SliderStyleModel",
          "state": {
            "_view_name": "StyleView",
            "handle_color": null,
            "_model_name": "SliderStyleModel",
            "description_width": "",
            "_view_module": "@jupyter-widgets/base",
            "_model_module_version": "1.5.0",
            "_view_count": null,
            "_view_module_version": "1.2.0",
            "_model_module": "@jupyter-widgets/controls"
          }
        },
        "ff4a54c5068d489ea520a12224c9a84d": {
          "model_module": "@jupyter-widgets/base",
          "model_name": "LayoutModel",
          "state": {
            "_view_name": "LayoutView",
            "grid_template_rows": null,
            "right": null,
            "justify_content": null,
            "_view_module": "@jupyter-widgets/base",
            "overflow": null,
            "_model_module_version": "1.2.0",
            "_view_count": null,
            "flex_flow": null,
            "width": null,
            "min_width": null,
            "border": null,
            "align_items": null,
            "bottom": null,
            "_model_module": "@jupyter-widgets/base",
            "top": null,
            "grid_column": null,
            "overflow_y": null,
            "overflow_x": null,
            "grid_auto_flow": null,
            "grid_area": null,
            "grid_template_columns": null,
            "flex": null,
            "_model_name": "LayoutModel",
            "justify_items": null,
            "grid_row": null,
            "max_height": null,
            "align_content": null,
            "visibility": null,
            "align_self": null,
            "height": null,
            "min_height": null,
            "padding": null,
            "grid_auto_rows": null,
            "grid_gap": null,
            "max_width": null,
            "order": null,
            "_view_module_version": "1.2.0",
            "grid_template_areas": null,
            "object_position": null,
            "object_fit": null,
            "grid_auto_columns": null,
            "margin": null,
            "display": null,
            "left": null
          }
        },
        "945516fb17b14ad490c11a17045047bd": {
          "model_module": "@jupyter-widgets/controls",
          "model_name": "SliderStyleModel",
          "state": {
            "_view_name": "StyleView",
            "handle_color": null,
            "_model_name": "SliderStyleModel",
            "description_width": "",
            "_view_module": "@jupyter-widgets/base",
            "_model_module_version": "1.5.0",
            "_view_count": null,
            "_view_module_version": "1.2.0",
            "_model_module": "@jupyter-widgets/controls"
          }
        },
        "a7eeed3e78be408c8cb4916f1c0155e4": {
          "model_module": "@jupyter-widgets/base",
          "model_name": "LayoutModel",
          "state": {
            "_view_name": "LayoutView",
            "grid_template_rows": null,
            "right": null,
            "justify_content": null,
            "_view_module": "@jupyter-widgets/base",
            "overflow": null,
            "_model_module_version": "1.2.0",
            "_view_count": null,
            "flex_flow": null,
            "width": null,
            "min_width": null,
            "border": null,
            "align_items": null,
            "bottom": null,
            "_model_module": "@jupyter-widgets/base",
            "top": null,
            "grid_column": null,
            "overflow_y": null,
            "overflow_x": null,
            "grid_auto_flow": null,
            "grid_area": null,
            "grid_template_columns": null,
            "flex": null,
            "_model_name": "LayoutModel",
            "justify_items": null,
            "grid_row": null,
            "max_height": null,
            "align_content": null,
            "visibility": null,
            "align_self": null,
            "height": null,
            "min_height": null,
            "padding": null,
            "grid_auto_rows": null,
            "grid_gap": null,
            "max_width": null,
            "order": null,
            "_view_module_version": "1.2.0",
            "grid_template_areas": null,
            "object_position": null,
            "object_fit": null,
            "grid_auto_columns": null,
            "margin": null,
            "display": null,
            "left": null
          }
        },
        "e13449a477c940ce8488d27ea232f28b": {
          "model_module": "@jupyter-widgets/controls",
          "model_name": "SliderStyleModel",
          "state": {
            "_view_name": "StyleView",
            "handle_color": null,
            "_model_name": "SliderStyleModel",
            "description_width": "",
            "_view_module": "@jupyter-widgets/base",
            "_model_module_version": "1.5.0",
            "_view_count": null,
            "_view_module_version": "1.2.0",
            "_model_module": "@jupyter-widgets/controls"
          }
        },
        "89c377f228a9441995e80322c797573f": {
          "model_module": "@jupyter-widgets/base",
          "model_name": "LayoutModel",
          "state": {
            "_view_name": "LayoutView",
            "grid_template_rows": null,
            "right": null,
            "justify_content": null,
            "_view_module": "@jupyter-widgets/base",
            "overflow": null,
            "_model_module_version": "1.2.0",
            "_view_count": null,
            "flex_flow": null,
            "width": null,
            "min_width": null,
            "border": null,
            "align_items": null,
            "bottom": null,
            "_model_module": "@jupyter-widgets/base",
            "top": null,
            "grid_column": null,
            "overflow_y": null,
            "overflow_x": null,
            "grid_auto_flow": null,
            "grid_area": null,
            "grid_template_columns": null,
            "flex": null,
            "_model_name": "LayoutModel",
            "justify_items": null,
            "grid_row": null,
            "max_height": null,
            "align_content": null,
            "visibility": null,
            "align_self": null,
            "height": null,
            "min_height": null,
            "padding": null,
            "grid_auto_rows": null,
            "grid_gap": null,
            "max_width": null,
            "order": null,
            "_view_module_version": "1.2.0",
            "grid_template_areas": null,
            "object_position": null,
            "object_fit": null,
            "grid_auto_columns": null,
            "margin": null,
            "display": null,
            "left": null
          }
        },
        "cd02ee88c2dc4a5991eb0fbacf5c87bc": {
          "model_module": "@jupyter-widgets/controls",
          "model_name": "VBoxModel",
          "state": {
            "_view_name": "VBoxView",
            "_dom_classes": [
              "widget-interact"
            ],
            "_model_name": "VBoxModel",
            "_view_module": "@jupyter-widgets/controls",
            "_model_module_version": "1.5.0",
            "_view_count": null,
            "_view_module_version": "1.5.0",
            "box_style": "",
            "layout": "IPY_MODEL_525db2f122c14fcea909007d066b6393",
            "_model_module": "@jupyter-widgets/controls",
            "children": [
              "IPY_MODEL_11173399faa044f295252dac28ea5c91",
              "IPY_MODEL_b6f9b17b40f5485cbf10e1aa121fa8a3",
              "IPY_MODEL_a766d1f42bc74fd1a01e40ef1b129cfa",
              "IPY_MODEL_66a34de4d47d4000a45e4d7478aca279",
              "IPY_MODEL_162cffd6b2614712bdb13fa768e8e44d"
            ]
          }
        },
        "525db2f122c14fcea909007d066b6393": {
          "model_module": "@jupyter-widgets/base",
          "model_name": "LayoutModel",
          "state": {
            "_view_name": "LayoutView",
            "grid_template_rows": null,
            "right": null,
            "justify_content": null,
            "_view_module": "@jupyter-widgets/base",
            "overflow": null,
            "_model_module_version": "1.2.0",
            "_view_count": null,
            "flex_flow": null,
            "width": null,
            "min_width": null,
            "border": null,
            "align_items": null,
            "bottom": null,
            "_model_module": "@jupyter-widgets/base",
            "top": null,
            "grid_column": null,
            "overflow_y": null,
            "overflow_x": null,
            "grid_auto_flow": null,
            "grid_area": null,
            "grid_template_columns": null,
            "flex": null,
            "_model_name": "LayoutModel",
            "justify_items": null,
            "grid_row": null,
            "max_height": null,
            "align_content": null,
            "visibility": null,
            "align_self": null,
            "height": null,
            "min_height": null,
            "padding": null,
            "grid_auto_rows": null,
            "grid_gap": null,
            "max_width": null,
            "order": null,
            "_view_module_version": "1.2.0",
            "grid_template_areas": null,
            "object_position": null,
            "object_fit": null,
            "grid_auto_columns": null,
            "margin": null,
            "display": null,
            "left": null
          }
        },
        "11173399faa044f295252dac28ea5c91": {
          "model_module": "@jupyter-widgets/controls",
          "model_name": "FloatSliderModel",
          "state": {
            "_view_name": "FloatSliderView",
            "style": "IPY_MODEL_feef4267d3ff452e8b49ec8ddd04a962",
            "_dom_classes": [],
            "description": "T",
            "step": 0.5,
            "_model_name": "FloatSliderModel",
            "orientation": "horizontal",
            "max": 5,
            "_view_module": "@jupyter-widgets/controls",
            "_model_module_version": "1.5.0",
            "value": 2,
            "_view_count": null,
            "disabled": false,
            "_view_module_version": "1.5.0",
            "min": 0,
            "continuous_update": true,
            "readout_format": ".2f",
            "description_tooltip": null,
            "readout": true,
            "_model_module": "@jupyter-widgets/controls",
            "layout": "IPY_MODEL_4f2c10aee3ff43b2b3aebdfe534e7382"
          }
        },
        "b6f9b17b40f5485cbf10e1aa121fa8a3": {
          "model_module": "@jupyter-widgets/controls",
          "model_name": "IntSliderModel",
          "state": {
            "_view_name": "IntSliderView",
            "style": "IPY_MODEL_38849c5cf33145ee93e9c6e7c0670fb6",
            "_dom_classes": [],
            "description": "k",
            "step": 2,
            "_model_name": "IntSliderModel",
            "orientation": "horizontal",
            "max": 100,
            "_view_module": "@jupyter-widgets/controls",
            "_model_module_version": "1.5.0",
            "value": 33,
            "_view_count": null,
            "disabled": false,
            "_view_module_version": "1.5.0",
            "min": 1,
            "continuous_update": true,
            "readout_format": "d",
            "description_tooltip": null,
            "readout": true,
            "_model_module": "@jupyter-widgets/controls",
            "layout": "IPY_MODEL_076be4497e1d4394897843071363c020"
          }
        },
        "a766d1f42bc74fd1a01e40ef1b129cfa": {
          "model_module": "@jupyter-widgets/controls",
          "model_name": "FloatSliderModel",
          "state": {
            "_view_name": "FloatSliderView",
            "style": "IPY_MODEL_cc278ddcbb5745eeb3b3ece985caf42f",
            "_dom_classes": [],
            "description": "duty",
            "step": 0.02,
            "_model_name": "FloatSliderModel",
            "orientation": "horizontal",
            "max": 0.97,
            "_view_module": "@jupyter-widgets/controls",
            "_model_module_version": "1.5.0",
            "value": 0.5,
            "_view_count": null,
            "disabled": false,
            "_view_module_version": "1.5.0",
            "min": 0.0001,
            "continuous_update": true,
            "readout_format": ".2f",
            "description_tooltip": null,
            "readout": true,
            "_model_module": "@jupyter-widgets/controls",
            "layout": "IPY_MODEL_a08510cc4d1d478c88e28857aa276889"
          }
        },
        "66a34de4d47d4000a45e4d7478aca279": {
          "model_module": "@jupyter-widgets/controls",
          "model_name": "FloatSliderModel",
          "state": {
            "_view_name": "FloatSliderView",
            "style": "IPY_MODEL_b99122d0dc00425a8a9f83bb8d73ebbe",
            "_dom_classes": [],
            "description": "amplitude",
            "step": 0.1,
            "_model_name": "FloatSliderModel",
            "orientation": "horizontal",
            "max": 10,
            "_view_module": "@jupyter-widgets/controls",
            "_model_module_version": "1.5.0",
            "value": 1,
            "_view_count": null,
            "disabled": false,
            "_view_module_version": "1.5.0",
            "min": 0.1,
            "continuous_update": true,
            "readout_format": ".2f",
            "description_tooltip": null,
            "readout": true,
            "_model_module": "@jupyter-widgets/controls",
            "layout": "IPY_MODEL_d922295d2c214bbf99b8430b06f43f17"
          }
        },
        "162cffd6b2614712bdb13fa768e8e44d": {
          "model_module": "@jupyter-widgets/output",
          "model_name": "OutputModel",
          "state": {
            "_view_name": "OutputView",
            "msg_id": "",
            "_dom_classes": [],
            "_model_name": "OutputModel",
            "outputs": [
              {
                "output_type": "display_data",
                "metadata": {
                  "tags": []
                },
                "image/png": "iVBORw0KGgoAAAANSUhEUgAAAXoAAAD4CAYAAADiry33AAAABHNCSVQICAgIfAhkiAAAAAlwSFlz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\noJekwhn0klS4/w8bMCJuc8WUNAAAAABJRU5ErkJggg==\n",
                "text/plain": "<Figure size 432x288 with 1 Axes>"
              },
              {
                "output_type": "stream",
                "metadata": {
                  "tags": []
                },
                "text": "/usr/local/lib/python3.6/dist-packages/numpy/core/_asarray.py:85: ComplexWarning: Casting complex values to real discards the imaginary part\n  return array(a, dtype, copy=False, order=order)\n",
                "stream": "stderr"
              },
              {
                "output_type": "display_data",
                "metadata": {
                  "tags": []
                },
                "image/png": "iVBORw0KGgoAAAANSUhEUgAAAXwAAAD5CAYAAAAk7Y4VAAAABHNCSVQICAgIfAhkiAAAAAlwSFlz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\nAAAASUVORK5CYII=\n",
                "text/plain": "<Figure size 432x288 with 1 Axes>"
              },
              {
                "output_type": "display_data",
                "metadata": {
                  "tags": []
                },
                "text/plain": "(array([0.74366948-7.63278329e-17j, 0.74358048+3.46944695e-18j,\n        0.74328596+6.93889390e-18j, ..., 0.74339926+4.33680869e-17j,\n        0.7435947 +2.25514052e-17j, 0.74366948-1.38777878e-17j]),\n array([-4.        , -3.99839968, -3.99679936, ...,  3.99679936,\n         3.99839968,  4.        ]))"
              }
            ],
            "_view_module": "@jupyter-widgets/output",
            "_model_module_version": "1.0.0",
            "_view_count": null,
            "_view_module_version": "1.0.0",
            "layout": "IPY_MODEL_d68c9b3a184d466ba89dc8408ba98fc7",
            "_model_module": "@jupyter-widgets/output"
          }
        },
        "feef4267d3ff452e8b49ec8ddd04a962": {
          "model_module": "@jupyter-widgets/controls",
          "model_name": "SliderStyleModel",
          "state": {
            "_view_name": "StyleView",
            "handle_color": null,
            "_model_name": "SliderStyleModel",
            "description_width": "",
            "_view_module": "@jupyter-widgets/base",
            "_model_module_version": "1.5.0",
            "_view_count": null,
            "_view_module_version": "1.2.0",
            "_model_module": "@jupyter-widgets/controls"
          }
        },
        "4f2c10aee3ff43b2b3aebdfe534e7382": {
          "model_module": "@jupyter-widgets/base",
          "model_name": "LayoutModel",
          "state": {
            "_view_name": "LayoutView",
            "grid_template_rows": null,
            "right": null,
            "justify_content": null,
            "_view_module": "@jupyter-widgets/base",
            "overflow": null,
            "_model_module_version": "1.2.0",
            "_view_count": null,
            "flex_flow": null,
            "width": null,
            "min_width": null,
            "border": null,
            "align_items": null,
            "bottom": null,
            "_model_module": "@jupyter-widgets/base",
            "top": null,
            "grid_column": null,
            "overflow_y": null,
            "overflow_x": null,
            "grid_auto_flow": null,
            "grid_area": null,
            "grid_template_columns": null,
            "flex": null,
            "_model_name": "LayoutModel",
            "justify_items": null,
            "grid_row": null,
            "max_height": null,
            "align_content": null,
            "visibility": null,
            "align_self": null,
            "height": null,
            "min_height": null,
            "padding": null,
            "grid_auto_rows": null,
            "grid_gap": null,
            "max_width": null,
            "order": null,
            "_view_module_version": "1.2.0",
            "grid_template_areas": null,
            "object_position": null,
            "object_fit": null,
            "grid_auto_columns": null,
            "margin": null,
            "display": null,
            "left": null
          }
        },
        "38849c5cf33145ee93e9c6e7c0670fb6": {
          "model_module": "@jupyter-widgets/controls",
          "model_name": "SliderStyleModel",
          "state": {
            "_view_name": "StyleView",
            "handle_color": null,
            "_model_name": "SliderStyleModel",
            "description_width": "",
            "_view_module": "@jupyter-widgets/base",
            "_model_module_version": "1.5.0",
            "_view_count": null,
            "_view_module_version": "1.2.0",
            "_model_module": "@jupyter-widgets/controls"
          }
        },
        "076be4497e1d4394897843071363c020": {
          "model_module": "@jupyter-widgets/base",
          "model_name": "LayoutModel",
          "state": {
            "_view_name": "LayoutView",
            "grid_template_rows": null,
            "right": null,
            "justify_content": null,
            "_view_module": "@jupyter-widgets/base",
            "overflow": null,
            "_model_module_version": "1.2.0",
            "_view_count": null,
            "flex_flow": null,
            "width": null,
            "min_width": null,
            "border": null,
            "align_items": null,
            "bottom": null,
            "_model_module": "@jupyter-widgets/base",
            "top": null,
            "grid_column": null,
            "overflow_y": null,
            "overflow_x": null,
            "grid_auto_flow": null,
            "grid_area": null,
            "grid_template_columns": null,
            "flex": null,
            "_model_name": "LayoutModel",
            "justify_items": null,
            "grid_row": null,
            "max_height": null,
            "align_content": null,
            "visibility": null,
            "align_self": null,
            "height": null,
            "min_height": null,
            "padding": null,
            "grid_auto_rows": null,
            "grid_gap": null,
            "max_width": null,
            "order": null,
            "_view_module_version": "1.2.0",
            "grid_template_areas": null,
            "object_position": null,
            "object_fit": null,
            "grid_auto_columns": null,
            "margin": null,
            "display": null,
            "left": null
          }
        },
        "cc278ddcbb5745eeb3b3ece985caf42f": {
          "model_module": "@jupyter-widgets/controls",
          "model_name": "SliderStyleModel",
          "state": {
            "_view_name": "StyleView",
            "handle_color": null,
            "_model_name": "SliderStyleModel",
            "description_width": "",
            "_view_module": "@jupyter-widgets/base",
            "_model_module_version": "1.5.0",
            "_view_count": null,
            "_view_module_version": "1.2.0",
            "_model_module": "@jupyter-widgets/controls"
          }
        },
        "a08510cc4d1d478c88e28857aa276889": {
          "model_module": "@jupyter-widgets/base",
          "model_name": "LayoutModel",
          "state": {
            "_view_name": "LayoutView",
            "grid_template_rows": null,
            "right": null,
            "justify_content": null,
            "_view_module": "@jupyter-widgets/base",
            "overflow": null,
            "_model_module_version": "1.2.0",
            "_view_count": null,
            "flex_flow": null,
            "width": null,
            "min_width": null,
            "border": null,
            "align_items": null,
            "bottom": null,
            "_model_module": "@jupyter-widgets/base",
            "top": null,
            "grid_column": null,
            "overflow_y": null,
            "overflow_x": null,
            "grid_auto_flow": null,
            "grid_area": null,
            "grid_template_columns": null,
            "flex": null,
            "_model_name": "LayoutModel",
            "justify_items": null,
            "grid_row": null,
            "max_height": null,
            "align_content": null,
            "visibility": null,
            "align_self": null,
            "height": null,
            "min_height": null,
            "padding": null,
            "grid_auto_rows": null,
            "grid_gap": null,
            "max_width": null,
            "order": null,
            "_view_module_version": "1.2.0",
            "grid_template_areas": null,
            "object_position": null,
            "object_fit": null,
            "grid_auto_columns": null,
            "margin": null,
            "display": null,
            "left": null
          }
        },
        "b99122d0dc00425a8a9f83bb8d73ebbe": {
          "model_module": "@jupyter-widgets/controls",
          "model_name": "SliderStyleModel",
          "state": {
            "_view_name": "StyleView",
            "handle_color": null,
            "_model_name": "SliderStyleModel",
            "description_width": "",
            "_view_module": "@jupyter-widgets/base",
            "_model_module_version": "1.5.0",
            "_view_count": null,
            "_view_module_version": "1.2.0",
            "_model_module": "@jupyter-widgets/controls"
          }
        },
        "d922295d2c214bbf99b8430b06f43f17": {
          "model_module": "@jupyter-widgets/base",
          "model_name": "LayoutModel",
          "state": {
            "_view_name": "LayoutView",
            "grid_template_rows": null,
            "right": null,
            "justify_content": null,
            "_view_module": "@jupyter-widgets/base",
            "overflow": null,
            "_model_module_version": "1.2.0",
            "_view_count": null,
            "flex_flow": null,
            "width": null,
            "min_width": null,
            "border": null,
            "align_items": null,
            "bottom": null,
            "_model_module": "@jupyter-widgets/base",
            "top": null,
            "grid_column": null,
            "overflow_y": null,
            "overflow_x": null,
            "grid_auto_flow": null,
            "grid_area": null,
            "grid_template_columns": null,
            "flex": null,
            "_model_name": "LayoutModel",
            "justify_items": null,
            "grid_row": null,
            "max_height": null,
            "align_content": null,
            "visibility": null,
            "align_self": null,
            "height": null,
            "min_height": null,
            "padding": null,
            "grid_auto_rows": null,
            "grid_gap": null,
            "max_width": null,
            "order": null,
            "_view_module_version": "1.2.0",
            "grid_template_areas": null,
            "object_position": null,
            "object_fit": null,
            "grid_auto_columns": null,
            "margin": null,
            "display": null,
            "left": null
          }
        }
      }
    }
  },
  "cells": [
    {
      "cell_type": "markdown",
      "metadata": {
        "id": "view-in-github",
        "colab_type": "text"
      },
      "source": [
        "<a href=\"https://colab.research.google.com/github/mauguzar98/graficas-pyhton/blob/master/fourier_diente_sierra_e_inverso.ipynb\" target=\"_parent\"><img src=\"https://colab.research.google.com/assets/colab-badge.svg\" alt=\"Open In Colab\"/></a>"
      ]
    },
    {
      "cell_type": "code",
      "metadata": {
        "id": "Lv_-4HWhELMW",
        "colab_type": "code",
        "colab": {}
      },
      "source": [
        "import ipywidgets as widgets\n",
        "from ipywidgets import interact, interact_manual, interactive, fixed\n",
        "from IPython.display import display\n",
        "import numpy as np\n",
        "import matplotlib.pyplot as plt"
      ],
      "execution_count": 0,
      "outputs": []
    },
    {
      "cell_type": "markdown",
      "metadata": {
        "id": "HA_etjdkFW41",
        "colab_type": "text"
      },
      "source": [
        "#señal diente de sierra e inverso \n",
        "#donde $B_k$\n",
        "$$B_k = \\frac{-2cos(k\\pi )}{k\\pi} $$\n",
        "#y $A_k$\n",
        "$$A_k = \\frac{2}{\\pi^2k^2}[cos(\\pi k)-1]$$"
      ]
    },
    {
      "cell_type": "code",
      "metadata": {
        "id": "BoMAhYmXFV-x",
        "colab_type": "code",
        "colab": {}
      },
      "source": [
        "def Ak_sawtooth(k=1,duty=0.5,T=1):\n",
        "    kas=np.arange(1,k,1)\n",
        "    Ak= np.zeros(int(k,), dtype=np.complex_)\n",
        "    Ak[0]=0.5* T * duty**2 \n",
        "    Ak[1:k]= ((-1j * T**2 /(2*np.pi*kas))*(-duty * np.exp(-1j*2*kas*np.pi*duty)  +\\\n",
        "                                  np.sin(kas*np.pi*duty) * np.exp(-1j*kas*np.pi*duty) / (kas*np.pi)))\n",
        "    Ak=np.concatenate((np.conj(Ak[-1:0:-1]),Ak))\n",
        "    kas=np.concatenate((-kas[::-1],[0],kas))\n",
        "    plt.stem(kas,Ak, use_line_collection=True)\n",
        "    plt.show()\n",
        "    return (Ak,kas)\n",
        "\n"
      ],
      "execution_count": 0,
      "outputs": []
    },
    {
      "cell_type": "code",
      "metadata": {
        "id": "LrJZeEPQI89x",
        "colab_type": "code",
        "colab": {}
      },
      "source": [
        "def sawtooth_signal(T=2,k=2,duty=0.5,amplitude=1):\n",
        "    \n",
        "    wo=2*np.pi/T\n",
        "    t=np.linspace(-2*T,2*T,5000)\n",
        "    Ak,kas=Ak_sawtooth(k,duty,T)\n",
        "    w=wo*kas\n",
        "    \n",
        "    x=np.dot(amplitude*Ak,np.exp(1j* np.outer(w,t)))\n",
        "    plt.plot(t,x)\n",
        "    plt.grid()\n",
        "    plt.show()\n",
        "    return x,t\n",
        "\n"
      ],
      "execution_count": 0,
      "outputs": []
    },
    {
      "cell_type": "code",
      "metadata": {
        "id": "msXSdEV8JCXj",
        "colab_type": "code",
        "colab": {
          "base_uri": "https://localhost:8080/",
          "height": 777,
          "referenced_widgets": [
            "b7462a133c35481abbec3112d00170b1",
            "2f80f66f256f4d9681d5d7f995615465",
            "30d3bb7d4d6d42cd8f5507a6d4ca1027",
            "097ffdb65f4a4481a3ec96a46fe1bafd",
            "ed5d391b9bfe47939ac171d048c4ecf3",
            "600500ffacfd4b9db02d812e06b42049",
            "710ef95162824c93bd9575c91ed62896",
            "c7429e6d731c4ad28d35bdb13b304469",
            "16f426af2f3e4b86aa16f2741ac9a8e3",
            "5436c8619b5846df90912175d86778ea",
            "ff4a54c5068d489ea520a12224c9a84d",
            "945516fb17b14ad490c11a17045047bd",
            "a7eeed3e78be408c8cb4916f1c0155e4",
            "e13449a477c940ce8488d27ea232f28b",
            "89c377f228a9441995e80322c797573f"
          ]
        },
        "outputId": "862895eb-5549-4617-b418-4e155d5c030f"
      },
      "source": [
        "xt=interact(sawtooth_signal,T=(0,5,0.5),k=(1,100,2),duty=(0.0001,0.97,0.02),amplitude=(0.1,10,0.1))\n",
        "display\n"
      ],
      "execution_count": 91,
      "outputs": [
        {
          "output_type": "display_data",
          "data": {
            "application/vnd.jupyter.widget-view+json": {
              "model_id": "b7462a133c35481abbec3112d00170b1",
              "version_minor": 0,
              "version_major": 2
            },
            "text/plain": [
              "interactive(children=(FloatSlider(value=2.0, description='T', max=5.0, step=0.5), IntSlider(value=2, descripti…"
            ]
          },
          "metadata": {
            "tags": []
          }
        },
        {
          "output_type": "execute_result",
          "data": {
            "text/plain": [
              "<function IPython.core.display.display>"
            ]
          },
          "metadata": {
            "tags": []
          },
          "execution_count": 91
        }
      ]
    },
    {
      "cell_type": "code",
      "metadata": {
        "id": "lMR3mL-QOGmq",
        "colab_type": "code",
        "colab": {}
      },
      "source": [
        "def Ak_sawtooth(k=1,duty=0.5,T=1):\n",
        "    kas=np.arange(1,k,1)\n",
        "    Ak= np.zeros(int(k,), dtype=np.complex_)\n",
        "    Ak[0]=0.5* T * duty**2 \n",
        "    Ak[1:k]= -1*((-1j * T**2 /(2*np.pi*kas))*(-duty * np.exp(-1j*2*kas*np.pi*duty)  +\\\n",
        "                                  np.sin(kas*np.pi*duty) * np.exp(-1j*kas*np.pi*duty) / (kas*np.pi)))\n",
        "    Ak=np.concatenate((np.conj(Ak[-1:0:-1]),Ak))\n",
        "    kas=np.concatenate((-kas[::-1],[0],kas))\n",
        "    plt.stem(kas,Ak, use_line_collection=True)\n",
        "    plt.show()\n",
        "    return (Ak,kas)\n"
      ],
      "execution_count": 0,
      "outputs": []
    },
    {
      "cell_type": "code",
      "metadata": {
        "id": "IUe4rkR9OK_O",
        "colab_type": "code",
        "colab": {}
      },
      "source": [
        "def sawtooth_signal(T=2,k=2,duty=0.5,amplitude=1):\n",
        "    \n",
        "    wo=2*np.pi/T\n",
        "    t=np.linspace(-2*T,2*T,5000)\n",
        "    Ak,kas=Ak_sawtooth(k,duty,T)\n",
        "    w=wo*kas\n",
        "    \n",
        "    x=np.dot(amplitude*Ak,np.exp(1j* np.outer(w,t)))\n",
        "    plt.plot(t,x)\n",
        "    plt.grid()\n",
        "    plt.show()\n",
        "    return x,t"
      ],
      "execution_count": 0,
      "outputs": []
    },
    {
      "cell_type": "code",
      "metadata": {
        "id": "BHZkNb0LOQrx",
        "colab_type": "code",
        "colab": {
          "base_uri": "https://localhost:8080/",
          "height": 778,
          "referenced_widgets": [
            "cd02ee88c2dc4a5991eb0fbacf5c87bc",
            "525db2f122c14fcea909007d066b6393",
            "11173399faa044f295252dac28ea5c91",
            "b6f9b17b40f5485cbf10e1aa121fa8a3",
            "a766d1f42bc74fd1a01e40ef1b129cfa",
            "66a34de4d47d4000a45e4d7478aca279",
            "162cffd6b2614712bdb13fa768e8e44d",
            "feef4267d3ff452e8b49ec8ddd04a962",
            "4f2c10aee3ff43b2b3aebdfe534e7382",
            "38849c5cf33145ee93e9c6e7c0670fb6",
            "076be4497e1d4394897843071363c020",
            "cc278ddcbb5745eeb3b3ece985caf42f",
            "a08510cc4d1d478c88e28857aa276889",
            "b99122d0dc00425a8a9f83bb8d73ebbe",
            "d922295d2c214bbf99b8430b06f43f17"
          ]
        },
        "outputId": "cf808534-d144-4a5f-f1d3-3135ec4e4064"
      },
      "source": [
        "xt=interact(sawtooth_signal,T=(0,5,0.5),k=(1,100,2),duty=(0.0001,0.97,0.02),amplitude=(0.1,10,0.1))\n",
        "display"
      ],
      "execution_count": 94,
      "outputs": [
        {
          "output_type": "display_data",
          "data": {
            "application/vnd.jupyter.widget-view+json": {
              "model_id": "cd02ee88c2dc4a5991eb0fbacf5c87bc",
              "version_minor": 0,
              "version_major": 2
            },
            "text/plain": [
              "interactive(children=(FloatSlider(value=2.0, description='T', max=5.0, step=0.5), IntSlider(value=2, descripti…"
            ]
          },
          "metadata": {
            "tags": []
          }
        },
        {
          "output_type": "execute_result",
          "data": {
            "text/plain": [
              "<function IPython.core.display.display>"
            ]
          },
          "metadata": {
            "tags": []
          },
          "execution_count": 94
        }
      ]
    }
  ]
}