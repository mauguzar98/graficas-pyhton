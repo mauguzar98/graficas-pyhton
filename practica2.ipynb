{
  "nbformat": 4,
  "nbformat_minor": 0,
  "metadata": {
    "colab": {
      "name": "practica2.ipynb",
      "provenance": [],
      "collapsed_sections": [],
      "authorship_tag": "ABX9TyMY7jYhuihmk0M/4ep8DjUL",
      "include_colab_link": true
    },
    "kernelspec": {
      "name": "python3",
      "display_name": "Python 3"
    }
  },
  "cells": [
    {
      "cell_type": "markdown",
      "metadata": {
        "id": "view-in-github",
        "colab_type": "text"
      },
      "source": [
        "<a href=\"https://colab.research.google.com/github/mauguzar98/graficas-pyhton/blob/master/practica2.ipynb\" target=\"_parent\"><img src=\"https://colab.research.google.com/assets/colab-badge.svg\" alt=\"Open In Colab\"/></a>"
      ]
    },
    {
      "cell_type": "code",
      "metadata": {
        "id": "6BurnMVJojAh",
        "colab_type": "code",
        "colab": {}
      },
      "source": [
        "import numpy as np\n",
        "import matplotlib.pyplot as plt \n",
        "import math"
      ],
      "execution_count": 0,
      "outputs": []
    },
    {
      "cell_type": "code",
      "metadata": {
        "id": "TGZZ9sH5sUCG",
        "colab_type": "code",
        "outputId": "3cc08abe-f34b-44ce-9f5e-c1f6fd49ec42",
        "colab": {
          "base_uri": "https://localhost:8080/",
          "height": 265
        }
      },
      "source": [
        "def fun(t):\n",
        "  f=[]\n",
        "  for n in range(0,len(t)):\n",
        "    if t[n] <=0:\n",
        "      f.append(0)\n",
        "    elif t[n] <=1:\n",
        "      f.append(4*math.e**(-2*t[n]))\n",
        "    elif t[n] >=1:\n",
        "      f.append(0)\n",
        "  return f\n",
        "\n",
        "def fun1(t):\n",
        "  f1=[]\n",
        "  for n in range(0,len(t)):\n",
        "    if t[n] <=0:\n",
        "      f1.append(0)\n",
        "    elif t[n] <= 1:\n",
        "      f1.append(1)\n",
        "    elif t[n] > 1:\n",
        "      f1.append(0)\n",
        "  return f1\n",
        "\n",
        "\n",
        "def fun2(t):\n",
        "  f2=[]\n",
        "  for n in range(0,len(t)):\n",
        "      xsum=g[n]+g1[n]\n",
        "      f2.append(xsum)\n",
        "  return f2\n",
        "\n",
        "def fun4(t):\n",
        "  f4=[]\n",
        "  for n in range(0,len(t)):\n",
        "      xmult=xsum*g1[n]\n",
        "      f4.append(xmult)\n",
        "  return f4\n",
        "\n",
        "t= np.linspace(-6,6,700)\n",
        "g= fun(t)\n",
        "g1= fun1(t)\n",
        "\n",
        "xsum= fun2(t)\n",
        "xmult= fun4(t)\n",
        "plt.plot(t,g,\"k\")\n",
        "#plt.stem(t,g1,linefmt=\"k\")\n",
        "#plt.plot(t,xsum,\"r\")\n",
        "#plt.stem(t,xmult,linefmt=\"b\")\n",
        "plt.axvline(0,color=\"red\")\n",
        "plt.axhline(0,color=\"red\")\n",
        "plt.grid()\n",
        "plt.show()"
      ],
      "execution_count": 0,
      "outputs": [
        {
          "output_type": "display_data",
          "data": {
            "image/png": "[encoded data removed]",
            "text/plain": [
              "<Figure size 432x288 with 1 Axes>"
            ]
          },
          "metadata": {
            "tags": []
          }
        }
      ]
    },
    {
      "cell_type": "code",
      "metadata": {
        "id": "s2W-eJoLtpaQ",
        "colab_type": "code",
        "outputId": "eba16248-bc22-4ae5-fad7-739d21256927",
        "colab": {
          "base_uri": "https://localhost:8080/",
          "height": 265
        }
      },
      "source": [
        "def function(t):\n",
        "  func= []\n",
        "  for i in range(0,len(t1)):\n",
        "    if t1[i] < -2:\n",
        "      func.append(0)\n",
        "    elif t1[i] <= 2:\n",
        "      func.append(1)\n",
        "    elif t1[i] > 2:\n",
        "      func.append(0)\n",
        "  return func\n",
        "\n",
        "t1=np.linspace(-6,6,700)\n",
        "h= function(t1)\n",
        "plt.plot(t1,h,\"k\")\n",
        "plt.axvline(0,color=\"red\")\n",
        "plt.axhline(0,color=\"red\")\n",
        "plt.grid()\n",
        "plt.show()"
      ],
      "execution_count": 0,
      "outputs": [
        {
          "output_type": "display_data",
          "data": {
            "image/png": "[encoded data removed]",
            "text/plain": [
              "<Figure size 432x288 with 1 Axes>"
            ]
          },
          "metadata": {
            "tags": []
          }
        }
      ]
    },
    {
      "cell_type": "code",
      "metadata": {
        "id": "2mFDIU85ZRzC",
        "colab_type": "code",
        "outputId": "abdbe711-ed51-488e-d87f-1c72762f37da",
        "colab": {
          "base_uri": "https://localhost:8080/",
          "height": 34
        }
      },
      "source": [
        "x= np.convolve(g,h)\n",
        "print(x.shape)"
      ],
      "execution_count": 0,
      "outputs": [
        {
          "output_type": "stream",
          "text": [
            "(1399,)\n"
          ],
          "name": "stdout"
        }
      ]
    },
    {
      "cell_type": "code",
      "metadata": {
        "id": "-Trcy4qZbXTi",
        "colab_type": "code",
        "outputId": "0cb111fe-f05a-481f-c7e3-10a69525912b",
        "colab": {
          "base_uri": "https://localhost:8080/",
          "height": 265
        }
      },
      "source": [
        "t2=np.linspace(-6,6,1399)\n",
        "plt.plot(t2,x,\"k\")\n",
        "plt.axvline(0,color=\"red\")\n",
        "plt.axhline(0,color=\"red\")\n",
        "plt.grid()\n",
        "plt.show()"
      ],
      "execution_count": 0,
      "outputs": [
        {
          "output_type": "display_data",
          "data": {
            "image/png": "[encoded data removed]",
            "text/plain": [
              "<Figure size 432x288 with 1 Axes>"
            ]
          },
          "metadata": {
            "tags": []
          }
        }
      ]
    },
    {
      "cell_type": "code",
      "metadata": {
        "id": "bfHk1xfPboIO",
        "colab_type": "code",
        "colab": {}
      },
      "source": [
        ""
      ],
      "execution_count": 0,
      "outputs": []
    }
  ]
}