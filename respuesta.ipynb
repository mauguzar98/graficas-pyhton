{
  "nbformat": 4,
  "nbformat_minor": 0,
  "metadata": {
    "colab": {
      "name": "respuesta.ipynb",
      "provenance": [],
      "include_colab_link": true
    },
    "kernelspec": {
      "name": "python3",
      "display_name": "Python 3"
    }
  },
  "cells": [
    {
      "cell_type": "markdown",
      "metadata": {
        "id": "view-in-github",
        "colab_type": "text"
      },
      "source": [
        "<a href=\"https://colab.research.google.com/github/mauguzar98/graficas-pyhton/blob/master/respuesta.ipynb\" target=\"_parent\"><img src=\"https://colab.research.google.com/assets/colab-badge.svg\" alt=\"Open In Colab\"/></a>"
      ]
    },
    {
      "cell_type": "code",
      "metadata": {
        "id": "7SbK9BP-XrQl",
        "colab_type": "code",
        "colab": {}
      },
      "source": [
        "import numpy as np\n",
        "import matplotlib.pyplot as plt\n"
      ],
      "execution_count": 0,
      "outputs": []
    },
    {
      "cell_type": "code",
      "metadata": {
        "id": "-5jvOY62X6Sp",
        "colab_type": "code",
        "colab": {}
      },
      "source": [
        "def delta(x):\n",
        "  return (x==0).astype('uint8')\n",
        "\n",
        "def u(x):\n",
        "  return(x>=0).astype('uint8')\n",
        "\n"
      ],
      "execution_count": 0,
      "outputs": []
    },
    {
      "cell_type": "code",
      "metadata": {
        "id": "sIKhcsTuYxGE",
        "colab_type": "code",
        "colab": {}
      },
      "source": [
        "x= np.arange(-10,20)\n"
      ],
      "execution_count": 0,
      "outputs": []
    },
    {
      "cell_type": "code",
      "metadata": {
        "id": "HhCI5HmFY6Wz",
        "colab_type": "code",
        "colab": {}
      },
      "source": [
        "def y(x):\n",
        "  results=[]\n",
        "  \n",
        "  for item in x:\n",
        "    if not results:\n",
        "      results.append(item)\n",
        "    else:\n",
        "      y_res = 0.5*item+ 0.8*results[-1]\n",
        "      results.append(y_res)\n",
        "  return results\n",
        "\n"
      ],
      "execution_count": 0,
      "outputs": []
    },
    {
      "cell_type": "code",
      "metadata": {
        "id": "5Nb4SbBkcuLg",
        "colab_type": "code",
        "outputId": "fb87dad5-e40b-40c8-8595-2ae25043e328",
        "colab": {
          "base_uri": "https://localhost:8080/",
          "height": 369
        }
      },
      "source": [
        "\n",
        "plt.figure(figsize=(10,5))\n",
        "plt.subplot(211)\n",
        "plt.title(\"respuesta al escalon\")\n",
        "plt.stem(x,y(u(x)),linefmt=\"black\")\n",
        "plt.xlabel(\"N\")\n",
        "plt.ylabel(\"y[n]\")\n",
        "plt.grid()\n",
        "plt.subplot(212)\n",
        "plt.title(\"respuesta al impulso\")\n",
        "plt.stem(x,y(delta(x)),linefmt=\"black\")\n",
        "plt.xlabel(\"N\")\n",
        "plt.ylabel(\"y[n]\")\n",
        "plt.grid()\n",
        "plt.tight_layout()\n",
        "plt.show()"
      ],
      "execution_count": 0,
      "outputs": [
        {
          "output_type": "display_data",
          "data": {
            "image/png": "[encoded data removed]",
            "text/plain": [
              "<Figure size 720x360 with 2 Axes>"
            ]
          },
          "metadata": {
            "tags": []
          }
        }
      ]
    },
    {
      "cell_type": "code",
      "metadata": {
        "id": "ck72bfiOdKe8",
        "colab_type": "code",
        "outputId": "d668b2ee-eea8-4e38-d1dd-7828dbcb2a21",
        "colab": {
          "base_uri": "https://localhost:8080/",
          "height": 527
        }
      },
      "source": [
        "y(u(x))"
      ],
      "execution_count": 0,
      "outputs": [
        {
          "output_type": "execute_result",
          "data": {
            "text/plain": [
              "[0,\n",
              " 0.0,\n",
              " 0.0,\n",
              " 0.0,\n",
              " 0.0,\n",
              " 0.0,\n",
              " 0.0,\n",
              " 0.0,\n",
              " 0.0,\n",
              " 0.0,\n",
              " 0.5,\n",
              " 0.9,\n",
              " 1.2200000000000002,\n",
              " 1.4760000000000002,\n",
              " 1.6808000000000003,\n",
              " 1.8446400000000003,\n",
              " 1.9757120000000004,\n",
              " 2.0805696000000005,\n",
              " 2.1644556800000005,\n",
              " 2.2315645440000003,\n",
              " 2.2852516352000003,\n",
              " 2.3282013081600006,\n",
              " 2.3625610465280005,\n",
              " 2.3900488372224005,\n",
              " 2.4120390697779204,\n",
              " 2.4296312558223363,\n",
              " 2.443705004657869,\n",
              " 2.454964003726295,\n",
              " 2.4639712029810363,\n",
              " 2.4711769623848294]"
            ]
          },
          "metadata": {
            "tags": []
          },
          "execution_count": 6
        }
      ]
    },
    {
      "cell_type": "code",
      "metadata": {
        "id": "Qgqu_MiZilov",
        "colab_type": "code",
        "outputId": "70ceab13-7980-4b98-a59f-99de4c46745b",
        "colab": {
          "base_uri": "https://localhost:8080/",
          "height": 527
        }
      },
      "source": [
        "y(delta(x))"
      ],
      "execution_count": 0,
      "outputs": [
        {
          "output_type": "execute_result",
          "data": {
            "text/plain": [
              "[0,\n",
              " 0.0,\n",
              " 0.0,\n",
              " 0.0,\n",
              " 0.0,\n",
              " 0.0,\n",
              " 0.0,\n",
              " 0.0,\n",
              " 0.0,\n",
              " 0.0,\n",
              " 0.5,\n",
              " 0.4,\n",
              " 0.32000000000000006,\n",
              " 0.25600000000000006,\n",
              " 0.20480000000000007,\n",
              " 0.16384000000000007,\n",
              " 0.13107200000000005,\n",
              " 0.10485760000000005,\n",
              " 0.08388608000000004,\n",
              " 0.06710886400000003,\n",
              " 0.05368709120000003,\n",
              " 0.042949672960000025,\n",
              " 0.03435973836800002,\n",
              " 0.027487790694400018,\n",
              " 0.021990232555520017,\n",
              " 0.017592186044416015,\n",
              " 0.014073748835532814,\n",
              " 0.011258999068426251,\n",
              " 0.009007199254741001,\n",
              " 0.007205759403792801]"
            ]
          },
          "metadata": {
            "tags": []
          },
          "execution_count": 7
        }
      ]
    }
  ]
}