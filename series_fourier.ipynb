{
  "nbformat": 4,
  "nbformat_minor": 0,
  "metadata": {
    "kernelspec": {
      "display_name": "Python 3",
      "language": "python",
      "name": "python3"
    },
    "language_info": {
      "codemirror_mode": {
        "name": "ipython",
        "version": 3
      },
      "file_extension": ".py",
      "mimetype": "text/x-python",
      "name": "python",
      "nbconvert_exporter": "python",
      "pygments_lexer": "ipython3",
      "version": "3.6.8"
    },
    "varInspector": {
      "cols": {
        "lenName": 16,
        "lenType": 16,
        "lenVar": 40
      },
      "kernels_config": {
        "python": {
          "delete_cmd_postfix": "",
          "delete_cmd_prefix": "del ",
          "library": "var_list.py",
          "varRefreshCmd": "print(var_dic_list())"
        },
        "r": {
          "delete_cmd_postfix": ") ",
          "delete_cmd_prefix": "rm(",
          "library": "var_list.r",
          "varRefreshCmd": "cat(var_dic_list()) "
        }
      },
      "types_to_exclude": [
        "module",
        "function",
        "builtin_function_or_method",
        "instance",
        "_Feature"
      ],
      "window_display": false
    },
    "colab": {
      "name": "series_fourier.ipynb",
      "provenance": [],
      "include_colab_link": true
    },
    "widgets": {
      "application/vnd.jupyter.widget-state+json": {
        "851636999fb444c1af5cf6c741b82400": {
          "model_module": "@jupyter-widgets/controls",
          "model_name": "VBoxModel",
          "state": {
            "_view_name": "VBoxView",
            "_dom_classes": [
              "widget-interact"
            ],
            "_model_name": "VBoxModel",
            "_view_module": "@jupyter-widgets/controls",
            "_model_module_version": "1.5.0",
            "_view_count": null,
            "_view_module_version": "1.5.0",
            "box_style": "",
            "layout": "IPY_MODEL_c16611075ffa4cdf86822f17e1f2b6b9",
            "_model_module": "@jupyter-widgets/controls",
            "children": [
              "IPY_MODEL_23a01833ceba4156a0e5ffb935e9c6e0",
              "IPY_MODEL_729a67cb8f5b429294771dd25a490948",
              "IPY_MODEL_884b2fa6e65341949d0f6d69182851cc",
              "IPY_MODEL_2b415c11716f488c9ccf70fc8288f71f",
              "IPY_MODEL_e4a0bd1c1d194e858f86ed31caf550c3"
            ]
          }
        },
        "c16611075ffa4cdf86822f17e1f2b6b9": {
          "model_module": "@jupyter-widgets/base",
          "model_name": "LayoutModel",
          "state": {
            "_view_name": "LayoutView",
            "grid_template_rows": null,
            "right": null,
            "justify_content": null,
            "_view_module": "@jupyter-widgets/base",
            "overflow": null,
            "_model_module_version": "1.2.0",
            "_view_count": null,
            "flex_flow": null,
            "width": null,
            "min_width": null,
            "border": null,
            "align_items": null,
            "bottom": null,
            "_model_module": "@jupyter-widgets/base",
            "top": null,
            "grid_column": null,
            "overflow_y": null,
            "overflow_x": null,
            "grid_auto_flow": null,
            "grid_area": null,
            "grid_template_columns": null,
            "flex": null,
            "_model_name": "LayoutModel",
            "justify_items": null,
            "grid_row": null,
            "max_height": null,
            "align_content": null,
            "visibility": null,
            "align_self": null,
            "height": null,
            "min_height": null,
            "padding": null,
            "grid_auto_rows": null,
            "grid_gap": null,
            "max_width": null,
            "order": null,
            "_view_module_version": "1.2.0",
            "grid_template_areas": null,
            "object_position": null,
            "object_fit": null,
            "grid_auto_columns": null,
            "margin": null,
            "display": null,
            "left": null
          }
        },
        "23a01833ceba4156a0e5ffb935e9c6e0": {
          "model_module": "@jupyter-widgets/controls",
          "model_name": "FloatSliderModel",
          "state": {
            "_view_name": "FloatSliderView",
            "style": "IPY_MODEL_86caeaf689c6417d8285fa2d29e85ba8",
            "_dom_classes": [],
            "description": "T",
            "step": 0.5,
            "_model_name": "FloatSliderModel",
            "orientation": "horizontal",
            "max": 5,
            "_view_module": "@jupyter-widgets/controls",
            "_model_module_version": "1.5.0",
            "value": 4,
            "_view_count": null,
            "disabled": false,
            "_view_module_version": "1.5.0",
            "min": 0,
            "continuous_update": true,
            "readout_format": ".2f",
            "description_tooltip": null,
            "readout": true,
            "_model_module": "@jupyter-widgets/controls",
            "layout": "IPY_MODEL_0e3f96c46b4d438cb22c408a0069ca3a"
          }
        },
        "729a67cb8f5b429294771dd25a490948": {
          "model_module": "@jupyter-widgets/controls",
          "model_name": "IntSliderModel",
          "state": {
            "_view_name": "IntSliderView",
            "style": "IPY_MODEL_d0bd6fe8ff464db8aa74800c2f3cd9e3",
            "_dom_classes": [],
            "description": "k",
            "step": 21,
            "_model_name": "IntSliderModel",
            "orientation": "horizontal",
            "max": 100,
            "_view_module": "@jupyter-widgets/controls",
            "_model_module_version": "1.5.0",
            "value": 31,
            "_view_count": null,
            "disabled": false,
            "_view_module_version": "1.5.0",
            "min": 1,
            "continuous_update": true,
            "readout_format": "d",
            "description_tooltip": null,
            "readout": true,
            "_model_module": "@jupyter-widgets/controls",
            "layout": "IPY_MODEL_617d43f531dc4ff299dbe2d1f32def29"
          }
        },
        "884b2fa6e65341949d0f6d69182851cc": {
          "model_module": "@jupyter-widgets/controls",
          "model_name": "FloatSliderModel",
          "state": {
            "_view_name": "FloatSliderView",
            "style": "IPY_MODEL_0e9d69f856d440e68c8f9a9d1e4d69d2",
            "_dom_classes": [],
            "description": "duty",
            "step": 0.02,
            "_model_name": "FloatSliderModel",
            "orientation": "horizontal",
            "max": 0.97,
            "_view_module": "@jupyter-widgets/controls",
            "_model_module_version": "1.5.0",
            "value": 0.0625,
            "_view_count": null,
            "disabled": false,
            "_view_module_version": "1.5.0",
            "min": 0.0001,
            "continuous_update": true,
            "readout_format": ".2f",
            "description_tooltip": null,
            "readout": true,
            "_model_module": "@jupyter-widgets/controls",
            "layout": "IPY_MODEL_e36ee3c05bd04a00a2b250325b0d3872"
          }
        },
        "2b415c11716f488c9ccf70fc8288f71f": {
          "model_module": "@jupyter-widgets/controls",
          "model_name": "FloatSliderModel",
          "state": {
            "_view_name": "FloatSliderView",
            "style": "IPY_MODEL_02c4fbf4fc964ead9d661434c4235200",
            "_dom_classes": [],
            "description": "amplitude",
            "step": 0.1,
            "_model_name": "FloatSliderModel",
            "orientation": "horizontal",
            "max": 10,
            "_view_module": "@jupyter-widgets/controls",
            "_model_module_version": "1.5.0",
            "value": 4,
            "_view_count": null,
            "disabled": false,
            "_view_module_version": "1.5.0",
            "min": 0.1,
            "continuous_update": true,
            "readout_format": ".2f",
            "description_tooltip": null,
            "readout": true,
            "_model_module": "@jupyter-widgets/controls",
            "layout": "IPY_MODEL_20b5e37117034d378a6c60bbbb18c833"
          }
        },
        "e4a0bd1c1d194e858f86ed31caf550c3": {
          "model_module": "@jupyter-widgets/output",
          "model_name": "OutputModel",
          "state": {
            "_view_name": "OutputView",
            "msg_id": "",
            "_dom_classes": [],
            "_model_name": "OutputModel",
            "outputs": [
              {
                "output_type": "display_data",
                "metadata": {
                  "tags": []
                },
                "image/png": "iVBORw0KGgoAAAANSUhEUgAAAYIAAAD4CAYAAADhNOGaAAAABHNCSVQICAgIfAhkiAAAAAlwSFlz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\nzMxqzoHAzKzmHAjMzGru/wNu3VbKiTPklQAAAABJRU5ErkJggg==\n",
                "text/plain": "<Figure size 432x288 with 1 Axes>"
              },
              {
                "output_type": "display_data",
                "metadata": {
                  "tags": []
                },
                "image/png": "iVBORw0KGgoAAAANSUhEUgAABHcAAAFlCAYAAABhiQQsAAAABHNCSVQICAgIfAhkiAAAAAlwSFlz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\nRK5CYII=\n",
                "text/plain": "<Figure size 1440x432 with 1 Axes>"
              },
              {
                "output_type": "display_data",
                "metadata": {
                  "tags": []
                },
                "text/plain": "(array([3.62862172, 3.63364604, 3.64860937, ..., 3.64860937, 3.63364604,\n        3.62862172]),\n array([-8.        , -7.99679936, -7.99359872, ...,  7.99359872,\n         7.99679936,  8.        ]))"
              }
            ],
            "_view_module": "@jupyter-widgets/output",
            "_model_module_version": "1.0.0",
            "_view_count": null,
            "_view_module_version": "1.0.0",
            "layout": "IPY_MODEL_e9bdda4f6fab498d82b6f1eab56e83da",
            "_model_module": "@jupyter-widgets/output"
          }
        },
        "86caeaf689c6417d8285fa2d29e85ba8": {
          "model_module": "@jupyter-widgets/controls",
          "model_name": "SliderStyleModel",
          "state": {
            "_view_name": "StyleView",
            "handle_color": null,
            "_model_name": "SliderStyleModel",
            "description_width": "",
            "_view_module": "@jupyter-widgets/base",
            "_model_module_version": "1.5.0",
            "_view_count": null,
            "_view_module_version": "1.2.0",
            "_model_module": "@jupyter-widgets/controls"
          }
        },
        "0e3f96c46b4d438cb22c408a0069ca3a": {
          "model_module": "@jupyter-widgets/base",
          "model_name": "LayoutModel",
          "state": {
            "_view_name": "LayoutView",
            "grid_template_rows": null,
            "right": null,
            "justify_content": null,
            "_view_module": "@jupyter-widgets/base",
            "overflow": null,
            "_model_module_version": "1.2.0",
            "_view_count": null,
            "flex_flow": null,
            "width": null,
            "min_width": null,
            "border": null,
            "align_items": null,
            "bottom": null,
            "_model_module": "@jupyter-widgets/base",
            "top": null,
            "grid_column": null,
            "overflow_y": null,
            "overflow_x": null,
            "grid_auto_flow": null,
            "grid_area": null,
            "grid_template_columns": null,
            "flex": null,
            "_model_name": "LayoutModel",
            "justify_items": null,
            "grid_row": null,
            "max_height": null,
            "align_content": null,
            "visibility": null,
            "align_self": null,
            "height": null,
            "min_height": null,
            "padding": null,
            "grid_auto_rows": null,
            "grid_gap": null,
            "max_width": null,
            "order": null,
            "_view_module_version": "1.2.0",
            "grid_template_areas": null,
            "object_position": null,
            "object_fit": null,
            "grid_auto_columns": null,
            "margin": null,
            "display": null,
            "left": null
          }
        },
        "d0bd6fe8ff464db8aa74800c2f3cd9e3": {
          "model_module": "@jupyter-widgets/controls",
          "model_name": "SliderStyleModel",
          "state": {
            "_view_name": "StyleView",
            "handle_color": null,
            "_model_name": "SliderStyleModel",
            "description_width": "",
            "_view_module": "@jupyter-widgets/base",
            "_model_module_version": "1.5.0",
            "_view_count": null,
            "_view_module_version": "1.2.0",
            "_model_module": "@jupyter-widgets/controls"
          }
        },
        "617d43f531dc4ff299dbe2d1f32def29": {
          "model_module": "@jupyter-widgets/base",
          "model_name": "LayoutModel",
          "state": {
            "_view_name": "LayoutView",
            "grid_template_rows": null,
            "right": null,
            "justify_content": null,
            "_view_module": "@jupyter-widgets/base",
            "overflow": null,
            "_model_module_version": "1.2.0",
            "_view_count": null,
            "flex_flow": null,
            "width": null,
            "min_width": null,
            "border": null,
            "align_items": null,
            "bottom": null,
            "_model_module": "@jupyter-widgets/base",
            "top": null,
            "grid_column": null,
            "overflow_y": null,
            "overflow_x": null,
            "grid_auto_flow": null,
            "grid_area": null,
            "grid_template_columns": null,
            "flex": null,
            "_model_name": "LayoutModel",
            "justify_items": null,
            "grid_row": null,
            "max_height": null,
            "align_content": null,
            "visibility": null,
            "align_self": null,
            "height": null,
            "min_height": null,
            "padding": null,
            "grid_auto_rows": null,
            "grid_gap": null,
            "max_width": null,
            "order": null,
            "_view_module_version": "1.2.0",
            "grid_template_areas": null,
            "object_position": null,
            "object_fit": null,
            "grid_auto_columns": null,
            "margin": null,
            "display": null,
            "left": null
          }
        },
        "0e9d69f856d440e68c8f9a9d1e4d69d2": {
          "model_module": "@jupyter-widgets/controls",
          "model_name": "SliderStyleModel",
          "state": {
            "_view_name": "StyleView",
            "handle_color": null,
            "_model_name": "SliderStyleModel",
            "description_width": "",
            "_view_module": "@jupyter-widgets/base",
            "_model_module_version": "1.5.0",
            "_view_count": null,
            "_view_module_version": "1.2.0",
            "_model_module": "@jupyter-widgets/controls"
          }
        },
        "e36ee3c05bd04a00a2b250325b0d3872": {
          "model_module": "@jupyter-widgets/base",
          "model_name": "LayoutModel",
          "state": {
            "_view_name": "LayoutView",
            "grid_template_rows": null,
            "right": null,
            "justify_content": null,
            "_view_module": "@jupyter-widgets/base",
            "overflow": null,
            "_model_module_version": "1.2.0",
            "_view_count": null,
            "flex_flow": null,
            "width": null,
            "min_width": null,
            "border": null,
            "align_items": null,
            "bottom": null,
            "_model_module": "@jupyter-widgets/base",
            "top": null,
            "grid_column": null,
            "overflow_y": null,
            "overflow_x": null,
            "grid_auto_flow": null,
            "grid_area": null,
            "grid_template_columns": null,
            "flex": null,
            "_model_name": "LayoutModel",
            "justify_items": null,
            "grid_row": null,
            "max_height": null,
            "align_content": null,
            "visibility": null,
            "align_self": null,
            "height": null,
            "min_height": null,
            "padding": null,
            "grid_auto_rows": null,
            "grid_gap": null,
            "max_width": null,
            "order": null,
            "_view_module_version": "1.2.0",
            "grid_template_areas": null,
            "object_position": null,
            "object_fit": null,
            "grid_auto_columns": null,
            "margin": null,
            "display": null,
            "left": null
          }
        },
        "02c4fbf4fc964ead9d661434c4235200": {
          "model_module": "@jupyter-widgets/controls",
          "model_name": "SliderStyleModel",
          "state": {
            "_view_name": "StyleView",
            "handle_color": null,
            "_model_name": "SliderStyleModel",
            "description_width": "",
            "_view_module": "@jupyter-widgets/base",
            "_model_module_version": "1.5.0",
            "_view_count": null,
            "_view_module_version": "1.2.0",
            "_model_module": "@jupyter-widgets/controls"
          }
        },
        "20b5e37117034d378a6c60bbbb18c833": {
          "model_module": "@jupyter-widgets/base",
          "model_name": "LayoutModel",
          "state": {
            "_view_name": "LayoutView",
            "grid_template_rows": null,
            "right": null,
            "justify_content": null,
            "_view_module": "@jupyter-widgets/base",
            "overflow": null,
            "_model_module_version": "1.2.0",
            "_view_count": null,
            "flex_flow": null,
            "width": null,
            "min_width": null,
            "border": null,
            "align_items": null,
            "bottom": null,
            "_model_module": "@jupyter-widgets/base",
            "top": null,
            "grid_column": null,
            "overflow_y": null,
            "overflow_x": null,
            "grid_auto_flow": null,
            "grid_area": null,
            "grid_template_columns": null,
            "flex": null,
            "_model_name": "LayoutModel",
            "justify_items": null,
            "grid_row": null,
            "max_height": null,
            "align_content": null,
            "visibility": null,
            "align_self": null,
            "height": null,
            "min_height": null,
            "padding": null,
            "grid_auto_rows": null,
            "grid_gap": null,
            "max_width": null,
            "order": null,
            "_view_module_version": "1.2.0",
            "grid_template_areas": null,
            "object_position": null,
            "object_fit": null,
            "grid_auto_columns": null,
            "margin": null,
            "display": null,
            "left": null
          }
        },
        "a95311f8ef2449fe8eac0cc4915279b8": {
          "model_module": "@jupyter-widgets/controls",
          "model_name": "VBoxModel",
          "state": {
            "_view_name": "VBoxView",
            "_dom_classes": [
              "widget-interact"
            ],
            "_model_name": "VBoxModel",
            "_view_module": "@jupyter-widgets/controls",
            "_model_module_version": "1.5.0",
            "_view_count": null,
            "_view_module_version": "1.5.0",
            "box_style": "",
            "layout": "IPY_MODEL_95c1759610d54aaaad905b1be5fd00d1",
            "_model_module": "@jupyter-widgets/controls",
            "children": [
              "IPY_MODEL_5f3d779500fa4ed4ae75b39b3f6ff687",
              "IPY_MODEL_7d272d97bdde461eacf84cbd0c7a42bf",
              "IPY_MODEL_7e88763d95f44996b7bf67965341df9a",
              "IPY_MODEL_3f6f96394cfc4b4c84ec6a7c866b30d0",
              "IPY_MODEL_3770db61f1d246879631d739a29629b6"
            ]
          }
        },
        "95c1759610d54aaaad905b1be5fd00d1": {
          "model_module": "@jupyter-widgets/base",
          "model_name": "LayoutModel",
          "state": {
            "_view_name": "LayoutView",
            "grid_template_rows": null,
            "right": null,
            "justify_content": null,
            "_view_module": "@jupyter-widgets/base",
            "overflow": null,
            "_model_module_version": "1.2.0",
            "_view_count": null,
            "flex_flow": null,
            "width": null,
            "min_width": null,
            "border": null,
            "align_items": null,
            "bottom": null,
            "_model_module": "@jupyter-widgets/base",
            "top": null,
            "grid_column": null,
            "overflow_y": null,
            "overflow_x": null,
            "grid_auto_flow": null,
            "grid_area": null,
            "grid_template_columns": null,
            "flex": null,
            "_model_name": "LayoutModel",
            "justify_items": null,
            "grid_row": null,
            "max_height": null,
            "align_content": null,
            "visibility": null,
            "align_self": null,
            "height": null,
            "min_height": null,
            "padding": null,
            "grid_auto_rows": null,
            "grid_gap": null,
            "max_width": null,
            "order": null,
            "_view_module_version": "1.2.0",
            "grid_template_areas": null,
            "object_position": null,
            "object_fit": null,
            "grid_auto_columns": null,
            "margin": null,
            "display": null,
            "left": null
          }
        },
        "5f3d779500fa4ed4ae75b39b3f6ff687": {
          "model_module": "@jupyter-widgets/controls",
          "model_name": "FloatSliderModel",
          "state": {
            "_view_name": "FloatSliderView",
            "style": "IPY_MODEL_887b97f53c1840129fec40dd69775036",
            "_dom_classes": [],
            "description": "T",
            "step": 0.5,
            "_model_name": "FloatSliderModel",
            "orientation": "horizontal",
            "max": 5,
            "_view_module": "@jupyter-widgets/controls",
            "_model_module_version": "1.5.0",
            "value": 1,
            "_view_count": null,
            "disabled": false,
            "_view_module_version": "1.5.0",
            "min": 0,
            "continuous_update": true,
            "readout_format": ".2f",
            "description_tooltip": null,
            "readout": true,
            "_model_module": "@jupyter-widgets/controls",
            "layout": "IPY_MODEL_9bb80821eea245caa1710d622756185b"
          }
        },
        "7d272d97bdde461eacf84cbd0c7a42bf": {
          "model_module": "@jupyter-widgets/controls",
          "model_name": "IntSliderModel",
          "state": {
            "_view_name": "IntSliderView",
            "style": "IPY_MODEL_7a1ebd7ed7d94ea197fc9d2fec981255",
            "_dom_classes": [],
            "description": "k",
            "step": 2,
            "_model_name": "IntSliderModel",
            "orientation": "horizontal",
            "max": 100,
            "_view_module": "@jupyter-widgets/controls",
            "_model_module_version": "1.5.0",
            "value": 29,
            "_view_count": null,
            "disabled": false,
            "_view_module_version": "1.5.0",
            "min": 1,
            "continuous_update": true,
            "readout_format": "d",
            "description_tooltip": null,
            "readout": true,
            "_model_module": "@jupyter-widgets/controls",
            "layout": "IPY_MODEL_bf9abafe532d49f89ece645423d77b24"
          }
        },
        "7e88763d95f44996b7bf67965341df9a": {
          "model_module": "@jupyter-widgets/controls",
          "model_name": "FloatSliderModel",
          "state": {
            "_view_name": "FloatSliderView",
            "style": "IPY_MODEL_88ba7eea3b384bd5a5f6b4fdf8e51c56",
            "_dom_classes": [],
            "description": "duty",
            "step": 0.02,
            "_model_name": "FloatSliderModel",
            "orientation": "horizontal",
            "max": 0.97,
            "_view_module": "@jupyter-widgets/controls",
            "_model_module_version": "1.5.0",
            "value": 0.5,
            "_view_count": null,
            "disabled": false,
            "_view_module_version": "1.5.0",
            "min": 0.0001,
            "continuous_update": true,
            "readout_format": ".2f",
            "description_tooltip": null,
            "readout": true,
            "_model_module": "@jupyter-widgets/controls",
            "layout": "IPY_MODEL_266100b73c0e4f75ba551c48871ecbc7"
          }
        },
        "3f6f96394cfc4b4c84ec6a7c866b30d0": {
          "model_module": "@jupyter-widgets/controls",
          "model_name": "FloatSliderModel",
          "state": {
            "_view_name": "FloatSliderView",
            "style": "IPY_MODEL_d120d42b44064801b7f8ec258876f996",
            "_dom_classes": [],
            "description": "amplitude",
            "step": 0.1,
            "_model_name": "FloatSliderModel",
            "orientation": "horizontal",
            "max": 10,
            "_view_module": "@jupyter-widgets/controls",
            "_model_module_version": "1.5.0",
            "value": 1,
            "_view_count": null,
            "disabled": false,
            "_view_module_version": "1.5.0",
            "min": 0.1,
            "continuous_update": true,
            "readout_format": ".2f",
            "description_tooltip": null,
            "readout": true,
            "_model_module": "@jupyter-widgets/controls",
            "layout": "IPY_MODEL_47ffaccf2c3b4d90917ba1e4c644bdfd"
          }
        },
        "3770db61f1d246879631d739a29629b6": {
          "model_module": "@jupyter-widgets/output",
          "model_name": "OutputModel",
          "state": {
            "_view_name": "OutputView",
            "msg_id": "",
            "_dom_classes": [],
            "_model_name": "OutputModel",
            "outputs": [
              {
                "output_type": "display_data",
                "metadata": {
                  "tags": []
                },
                "image/png": "iVBORw0KGgoAAAANSUhEUgAAAYoAAAD4CAYAAADy46FuAAAABHNCSVQICAgIfAhkiAAAAAlwSFlz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\n8PODLn8AAAAASUVORK5CYII=\n",
                "text/plain": "<Figure size 432x288 with 1 Axes>"
              },
              {
                "output_type": "stream",
                "metadata": {
                  "tags": []
                },
                "text": "/usr/local/lib/python3.6/dist-packages/numpy/core/_asarray.py:85: ComplexWarning: Casting complex values to real discards the imaginary part\n  return array(a, dtype, copy=False, order=order)\n",
                "stream": "stderr"
              },
              {
                "output_type": "display_data",
                "metadata": {
                  "tags": []
                },
                "image/png": "iVBORw0KGgoAAAANSUhEUgAAAXQAAAD4CAYAAAD8Zh1EAAAABHNCSVQICAgIfAhkiAAAAAlwSFlz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\nVenEnzcgAAAAAElFTkSuQmCC\n",
                "text/plain": "<Figure size 432x288 with 1 Axes>"
              },
              {
                "output_type": "display_data",
                "metadata": {
                  "tags": []
                },
                "text/plain": "(array([0.00180854+1.82145965e-17j, 0.00182782-8.67361738e-19j,\n        0.00189099+1.73472348e-18j, ..., 0.00186919-1.60461922e-17j,\n        0.00182509-5.63785130e-18j, 0.00180854+6.07153217e-18j]),\n array([-2.        , -1.99919984, -1.99839968, ...,  1.99839968,\n         1.99919984,  2.        ]))"
              }
            ],
            "_view_module": "@jupyter-widgets/output",
            "_model_module_version": "1.0.0",
            "_view_count": null,
            "_view_module_version": "1.0.0",
            "layout": "IPY_MODEL_8308723185134409be1cbbf35d220be3",
            "_model_module": "@jupyter-widgets/output"
          }
        },
        "887b97f53c1840129fec40dd69775036": {
          "model_module": "@jupyter-widgets/controls",
          "model_name": "SliderStyleModel",
          "state": {
            "_view_name": "StyleView",
            "handle_color": null,
            "_model_name": "SliderStyleModel",
            "description_width": "",
            "_view_module": "@jupyter-widgets/base",
            "_model_module_version": "1.5.0",
            "_view_count": null,
            "_view_module_version": "1.2.0",
            "_model_module": "@jupyter-widgets/controls"
          }
        },
        "9bb80821eea245caa1710d622756185b": {
          "model_module": "@jupyter-widgets/base",
          "model_name": "LayoutModel",
          "state": {
            "_view_name": "LayoutView",
            "grid_template_rows": null,
            "right": null,
            "justify_content": null,
            "_view_module": "@jupyter-widgets/base",
            "overflow": null,
            "_model_module_version": "1.2.0",
            "_view_count": null,
            "flex_flow": null,
            "width": null,
            "min_width": null,
            "border": null,
            "align_items": null,
            "bottom": null,
            "_model_module": "@jupyter-widgets/base",
            "top": null,
            "grid_column": null,
            "overflow_y": null,
            "overflow_x": null,
            "grid_auto_flow": null,
            "grid_area": null,
            "grid_template_columns": null,
            "flex": null,
            "_model_name": "LayoutModel",
            "justify_items": null,
            "grid_row": null,
            "max_height": null,
            "align_content": null,
            "visibility": null,
            "align_self": null,
            "height": null,
            "min_height": null,
            "padding": null,
            "grid_auto_rows": null,
            "grid_gap": null,
            "max_width": null,
            "order": null,
            "_view_module_version": "1.2.0",
            "grid_template_areas": null,
            "object_position": null,
            "object_fit": null,
            "grid_auto_columns": null,
            "margin": null,
            "display": null,
            "left": null
          }
        },
        "7a1ebd7ed7d94ea197fc9d2fec981255": {
          "model_module": "@jupyter-widgets/controls",
          "model_name": "SliderStyleModel",
          "state": {
            "_view_name": "StyleView",
            "handle_color": null,
            "_model_name": "SliderStyleModel",
            "description_width": "",
            "_view_module": "@jupyter-widgets/base",
            "_model_module_version": "1.5.0",
            "_view_count": null,
            "_view_module_version": "1.2.0",
            "_model_module": "@jupyter-widgets/controls"
          }
        },
        "bf9abafe532d49f89ece645423d77b24": {
          "model_module": "@jupyter-widgets/base",
          "model_name": "LayoutModel",
          "state": {
            "_view_name": "LayoutView",
            "grid_template_rows": null,
            "right": null,
            "justify_content": null,
            "_view_module": "@jupyter-widgets/base",
            "overflow": null,
            "_model_module_version": "1.2.0",
            "_view_count": null,
            "flex_flow": null,
            "width": null,
            "min_width": null,
            "border": null,
            "align_items": null,
            "bottom": null,
            "_model_module": "@jupyter-widgets/base",
            "top": null,
            "grid_column": null,
            "overflow_y": null,
            "overflow_x": null,
            "grid_auto_flow": null,
            "grid_area": null,
            "grid_template_columns": null,
            "flex": null,
            "_model_name": "LayoutModel",
            "justify_items": null,
            "grid_row": null,
            "max_height": null,
            "align_content": null,
            "visibility": null,
            "align_self": null,
            "height": null,
            "min_height": null,
            "padding": null,
            "grid_auto_rows": null,
            "grid_gap": null,
            "max_width": null,
            "order": null,
            "_view_module_version": "1.2.0",
            "grid_template_areas": null,
            "object_position": null,
            "object_fit": null,
            "grid_auto_columns": null,
            "margin": null,
            "display": null,
            "left": null
          }
        },
        "88ba7eea3b384bd5a5f6b4fdf8e51c56": {
          "model_module": "@jupyter-widgets/controls",
          "model_name": "SliderStyleModel",
          "state": {
            "_view_name": "StyleView",
            "handle_color": null,
            "_model_name": "SliderStyleModel",
            "description_width": "",
            "_view_module": "@jupyter-widgets/base",
            "_model_module_version": "1.5.0",
            "_view_count": null,
            "_view_module_version": "1.2.0",
            "_model_module": "@jupyter-widgets/controls"
          }
        },
        "266100b73c0e4f75ba551c48871ecbc7": {
          "model_module": "@jupyter-widgets/base",
          "model_name": "LayoutModel",
          "state": {
            "_view_name": "LayoutView",
            "grid_template_rows": null,
            "right": null,
            "justify_content": null,
            "_view_module": "@jupyter-widgets/base",
            "overflow": null,
            "_model_module_version": "1.2.0",
            "_view_count": null,
            "flex_flow": null,
            "width": null,
            "min_width": null,
            "border": null,
            "align_items": null,
            "bottom": null,
            "_model_module": "@jupyter-widgets/base",
            "top": null,
            "grid_column": null,
            "overflow_y": null,
            "overflow_x": null,
            "grid_auto_flow": null,
            "grid_area": null,
            "grid_template_columns": null,
            "flex": null,
            "_model_name": "LayoutModel",
            "justify_items": null,
            "grid_row": null,
            "max_height": null,
            "align_content": null,
            "visibility": null,
            "align_self": null,
            "height": null,
            "min_height": null,
            "padding": null,
            "grid_auto_rows": null,
            "grid_gap": null,
            "max_width": null,
            "order": null,
            "_view_module_version": "1.2.0",
            "grid_template_areas": null,
            "object_position": null,
            "object_fit": null,
            "grid_auto_columns": null,
            "margin": null,
            "display": null,
            "left": null
          }
        },
        "d120d42b44064801b7f8ec258876f996": {
          "model_module": "@jupyter-widgets/controls",
          "model_name": "SliderStyleModel",
          "state": {
            "_view_name": "StyleView",
            "handle_color": null,
            "_model_name": "SliderStyleModel",
            "description_width": "",
            "_view_module": "@jupyter-widgets/base",
            "_model_module_version": "1.5.0",
            "_view_count": null,
            "_view_module_version": "1.2.0",
            "_model_module": "@jupyter-widgets/controls"
          }
        },
        "47ffaccf2c3b4d90917ba1e4c644bdfd": {
          "model_module": "@jupyter-widgets/base",
          "model_name": "LayoutModel",
          "state": {
            "_view_name": "LayoutView",
            "grid_template_rows": null,
            "right": null,
            "justify_content": null,
            "_view_module": "@jupyter-widgets/base",
            "overflow": null,
            "_model_module_version": "1.2.0",
            "_view_count": null,
            "flex_flow": null,
            "width": null,
            "min_width": null,
            "border": null,
            "align_items": null,
            "bottom": null,
            "_model_module": "@jupyter-widgets/base",
            "top": null,
            "grid_column": null,
            "overflow_y": null,
            "overflow_x": null,
            "grid_auto_flow": null,
            "grid_area": null,
            "grid_template_columns": null,
            "flex": null,
            "_model_name": "LayoutModel",
            "justify_items": null,
            "grid_row": null,
            "max_height": null,
            "align_content": null,
            "visibility": null,
            "align_self": null,
            "height": null,
            "min_height": null,
            "padding": null,
            "grid_auto_rows": null,
            "grid_gap": null,
            "max_width": null,
            "order": null,
            "_view_module_version": "1.2.0",
            "grid_template_areas": null,
            "object_position": null,
            "object_fit": null,
            "grid_auto_columns": null,
            "margin": null,
            "display": null,
            "left": null
          }
        }
      }
    }
  },
  "cells": [
    {
      "cell_type": "markdown",
      "metadata": {
        "id": "view-in-github",
        "colab_type": "text"
      },
      "source": [
        "<a href=\"https://colab.research.google.com/github/mauguzar98/graficas-pyhton/blob/master/series_fourier.ipynb\" target=\"_parent\"><img src=\"https://colab.research.google.com/assets/colab-badge.svg\" alt=\"Open In Colab\"/></a>"
      ]
    },
    {
      "cell_type": "code",
      "metadata": {
        "id": "yDs2LtzeKgi0",
        "colab_type": "code",
        "colab": {}
      },
      "source": [
        "import ipywidgets as widgets\n",
        "from ipywidgets import interact, interact_manual, interactive, fixed\n",
        "from IPython.display import display\n",
        "import numpy as np\n",
        "import matplotlib.pyplot as plt"
      ],
      "execution_count": 0,
      "outputs": []
    },
    {
      "cell_type": "markdown",
      "metadata": {
        "id": "TBEJIcTfKgi_",
        "colab_type": "text"
      },
      "source": [
        "# Señal Cuadrada\n",
        "De acuerdo con la ecuación de la serie de Fourier los valores de $A_k$\n",
        "$$ A_k = \\frac{sin(k\\pi \\frac{t_o}{T})}{k\\pi} $$"
      ]
    },
    {
      "cell_type": "code",
      "metadata": {
        "id": "plqzGz9XKgjE",
        "colab_type": "code",
        "colab": {}
      },
      "source": [
        "def Ak_square(k=1,duty=0.5):\n",
        "    kas=np.arange(1,k,1)\n",
        "    Ak= np.zeros(int(k,), dtype=float)\n",
        "    Ak[0]=duty\n",
        "    Ak[1:k]=np.sin(kas*np.pi*duty)/(kas*np.pi)\n",
        "    Ak=np.concatenate((Ak[-1:0:-1],Ak))\n",
        "    kas=np.concatenate((-kas[::-1],[0],kas))\n",
        "    plt.stem(kas,Ak, use_line_collection=True)\n",
        "    plt.show()\n",
        "    return (Ak,kas)"
      ],
      "execution_count": 0,
      "outputs": []
    },
    {
      "cell_type": "markdown",
      "metadata": {
        "id": "4chGD5n-KgjK",
        "colab_type": "text"
      },
      "source": [
        "$$x(t)=\\sum_{-\\infty}^{\\infty} A_k e^{jk\\omega_0 t} $$"
      ]
    },
    {
      "cell_type": "code",
      "metadata": {
        "id": "G62goonhKgjM",
        "colab_type": "code",
        "colab": {}
      },
      "source": [
        "def square_signal(T=4,k=31,duty=(1/16),amplitude=4):\n",
        "    to=duty*T\n",
        "    wo=2*np.pi/T\n",
        "    t=np.linspace(-2*T,2*T,5000)\n",
        "    Ak,kas=Ak_square(k,duty)\n",
        "    w=wo*kas\n",
        "    \n",
        "    x=np.real(np.dot(amplitude*Ak,np.exp(1j* np.outer(w,t))))\n",
        "    plt.figure(figsize=(20,6))\n",
        "    plt.plot(t,x,linewidth=5)\n",
        "    plt.grid()\n",
        "    plt.show()\n",
        "    \n",
        "    \n",
        "    return x,t"
      ],
      "execution_count": 0,
      "outputs": []
    },
    {
      "cell_type": "code",
      "metadata": {
        "id": "GISdKzNqKgjU",
        "colab_type": "code",
        "outputId": "f78f8b0e-0d87-4bbc-dfb0-6e2fcf9b4001",
        "colab": {
          "base_uri": "https://localhost:8080/",
          "height": 835,
          "referenced_widgets": [
            "851636999fb444c1af5cf6c741b82400",
            "c16611075ffa4cdf86822f17e1f2b6b9",
            "23a01833ceba4156a0e5ffb935e9c6e0",
            "729a67cb8f5b429294771dd25a490948",
            "884b2fa6e65341949d0f6d69182851cc",
            "2b415c11716f488c9ccf70fc8288f71f",
            "e4a0bd1c1d194e858f86ed31caf550c3",
            "86caeaf689c6417d8285fa2d29e85ba8",
            "0e3f96c46b4d438cb22c408a0069ca3a",
            "d0bd6fe8ff464db8aa74800c2f3cd9e3",
            "617d43f531dc4ff299dbe2d1f32def29",
            "0e9d69f856d440e68c8f9a9d1e4d69d2",
            "e36ee3c05bd04a00a2b250325b0d3872",
            "02c4fbf4fc964ead9d661434c4235200",
            "20b5e37117034d378a6c60bbbb18c833"
          ]
        }
      },
      "source": [
        "xt=interact(square_signal,T=(0,5,0.5),k=(1,100,21),\\\n",
        "            duty=(0.0001,0.97,0.02),amplitude=(0.1,10,0.1))\n",
        "display(xt)"
      ],
      "execution_count": 11,
      "outputs": [
        {
          "output_type": "display_data",
          "data": {
            "application/vnd.jupyter.widget-view+json": {
              "model_id": "851636999fb444c1af5cf6c741b82400",
              "version_minor": 0,
              "version_major": 2
            },
            "text/plain": [
              "interactive(children=(FloatSlider(value=4.0, description='T', max=5.0, step=0.5), IntSlider(value=31, descript…"
            ]
          },
          "metadata": {
            "tags": []
          }
        },
        {
          "output_type": "display_data",
          "data": {
            "text/plain": [
              "<function __main__.square_signal>"
            ]
          },
          "metadata": {
            "tags": []
          }
        }
      ]
    },
    {
      "cell_type": "markdown",
      "metadata": {
        "id": "UBo4O07hKgjb",
        "colab_type": "text"
      },
      "source": [
        "# Señal diente de sierra con reposo\n",
        "Los componentes $A_k$ se definen como:\n",
        "\n",
        "$$ A_k=\\frac{-j a T^2}{2 \\pi k} \\cdot \\left[-t_o e^{-j k w_o t_o} + \\frac{T}{\\pi k} \\cdot sin(k w_o t_o) e^{-j\\frac{1}{2} k w_o t_o } \\right] $$"
      ]
    },
    {
      "cell_type": "code",
      "metadata": {
        "id": "FmDslT1MKgjc",
        "colab_type": "code",
        "colab": {}
      },
      "source": [
        "def Ak_sawtooth(k=1,duty=0.5,T=1):\n",
        "    kas=np.arange(1,k,1)\n",
        "    Ak= np.zeros(int(k,), dtype=np.complex_)\n",
        "    Ak[0]=0.5* T * duty**2 \n",
        "    Ak[1:k]=(-1j * T**2 /(2*np.pi*kas))*(-duty * np.exp(-1j*2*kas*np.pi*duty)  +\\\n",
        "                                  np.sin(kas*np.pi*duty) * np.exp(-1j*kas*np.pi*duty) / (kas*np.pi))\n",
        "    Ak=np.concatenate((np.conj(Ak[-1:0:-1]),Ak))\n",
        "    kas=np.concatenate((-kas[::-1],[0],kas))\n",
        "    plt.stem(kas,Ak, use_line_collection=True)\n",
        "    plt.show()\n",
        "    return (Ak,kas)\n"
      ],
      "execution_count": 0,
      "outputs": []
    },
    {
      "cell_type": "code",
      "metadata": {
        "id": "h27xvSx5Kgjj",
        "colab_type": "code",
        "colab": {}
      },
      "source": [
        "def sawtooth_signal(T=1,k=2,duty=0.5,amplitude=1):\n",
        "    \n",
        "    wo=2*np.pi/T\n",
        "    t=np.linspace(-2*T,2*T,5000)\n",
        "    Ak,kas=Ak_sawtooth(k,duty,T)\n",
        "    w=wo*kas\n",
        "    \n",
        "    x=np.dot(amplitude*Ak,np.exp(1j* np.outer(w,t)))\n",
        "    plt.plot(t,x)\n",
        "    plt.grid()\n",
        "    plt.show()\n",
        "    return x,t"
      ],
      "execution_count": 0,
      "outputs": []
    },
    {
      "cell_type": "code",
      "metadata": {
        "id": "RQOkJDHNKgjo",
        "colab_type": "code",
        "outputId": "6d93a60f-098e-4d02-9c7a-31272b9874aa",
        "colab": {
          "base_uri": "https://localhost:8080/",
          "height": 777,
          "referenced_widgets": [
            "a95311f8ef2449fe8eac0cc4915279b8",
            "95c1759610d54aaaad905b1be5fd00d1",
            "5f3d779500fa4ed4ae75b39b3f6ff687",
            "7d272d97bdde461eacf84cbd0c7a42bf",
            "7e88763d95f44996b7bf67965341df9a",
            "3f6f96394cfc4b4c84ec6a7c866b30d0",
            "3770db61f1d246879631d739a29629b6",
            "887b97f53c1840129fec40dd69775036",
            "9bb80821eea245caa1710d622756185b",
            "7a1ebd7ed7d94ea197fc9d2fec981255",
            "bf9abafe532d49f89ece645423d77b24",
            "88ba7eea3b384bd5a5f6b4fdf8e51c56",
            "266100b73c0e4f75ba551c48871ecbc7",
            "d120d42b44064801b7f8ec258876f996",
            "47ffaccf2c3b4d90917ba1e4c644bdfd"
          ]
        }
      },
      "source": [
        "xt=interact(sawtooth_signal,T=(0,5,0.5),k=(1,100,2),duty=(0.0001,0.97,0.02),amplitude=(0.1,10,0.1))\n",
        "display(xt)"
      ],
      "execution_count": 14,
      "outputs": [
        {
          "output_type": "display_data",
          "data": {
            "application/vnd.jupyter.widget-view+json": {
              "model_id": "a95311f8ef2449fe8eac0cc4915279b8",
              "version_minor": 0,
              "version_major": 2
            },
            "text/plain": [
              "interactive(children=(FloatSlider(value=1.0, description='T', max=5.0, step=0.5), IntSlider(value=2, descripti…"
            ]
          },
          "metadata": {
            "tags": []
          }
        },
        {
          "output_type": "display_data",
          "data": {
            "text/plain": [
              "<function __main__.sawtooth_signal>"
            ]
          },
          "metadata": {
            "tags": []
          }
        }
      ]
    }
  ]
}